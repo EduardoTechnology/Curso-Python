{
 "cells": [
  {
   "cell_type": "code",
   "execution_count": null,
   "id": "e8775f2c",
   "metadata": {},
   "outputs": [],
   "source": []
  },
  {
   "cell_type": "code",
   "execution_count": null,
   "id": "130e6105",
   "metadata": {},
   "outputs": [],
   "source": [
    "from datetime import datetime\n",
    "now = datetime.now()\n",
    "lula = ['13', 0]\n",
    "bolsonaro = ['22', 0]\n",
    "votoembranco = ['Branco', 0]\n",
    "votonulo = 0\n",
    "print ('Mesário deverá digitar \"Finalizar\" para encerrar a urna e imprimir os votos')\n",
    "print ('\\n O eleitor que optar por votar em branco deverá digitar \"Branco\"')\n",
    "print ('\\n Qualquer outro número que não represente um candidato o sistema irá anular o voto \\n')\n",
    "\n",
    "while True:\n",
    "    voto = input('Digite o número do seu candidato:')\n",
    "    if voto == lula[0]:\n",
    "        lula[1] = lula[1] + 1\n",
    "        print('Você votou no Lula')\n",
    "    elif voto == bolsonaro[0]:\n",
    "        bolsonaro[1] = bolsonaro[1] + 1\n",
    "        print('Você votou no Bolsonaro')\n",
    "    elif voto == votoembranco[0]:\n",
    "        votoembranco[1] = votoembranco[1] + 1\n",
    "        print('Você votou em branco')\n",
    "    elif voto == 'Finalizar':\n",
    "        break\n",
    "    elif voto != lula[0] and bolsonaro[0] and votoembranco[0]:\n",
    "        votonulo += 1\n",
    "        print('Você votou nulo')\n",
    "    print('\\n FIM \\n')\n",
    "print('Lula:', lula[1])\n",
    "print('Bolsonaro:', bolsonaro[1])\n",
    "print('Voto em Branco:', votoembranco[1])\n",
    "print('Voto Nulo:', votonulo)\n",
    "print(\"Hora de Impressão:\", now)\n",
    "input(\"Pressione <enter> para encerrar!\") #Para o terminal mostrar o print\n",
    "    \n"
   ]
  }
 ],
 "metadata": {
  "kernelspec": {
   "display_name": "Python 3 (ipykernel)",
   "language": "python",
   "name": "python3"
  },
  "language_info": {
   "codemirror_mode": {
    "name": "ipython",
    "version": 3
   },
   "file_extension": ".py",
   "mimetype": "text/x-python",
   "name": "python",
   "nbconvert_exporter": "python",
   "pygments_lexer": "ipython3",
   "version": "3.9.12"
  }
 },
 "nbformat": 4,
 "nbformat_minor": 5
}
