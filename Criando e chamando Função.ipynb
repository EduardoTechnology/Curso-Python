{
 "cells": [
  {
   "cell_type": "code",
   "execution_count": 5,
   "id": "c972418e",
   "metadata": {},
   "outputs": [],
   "source": [
    "def temletrau():\n",
    "    frase = input('Digite uma frase:')\n",
    "    if 'u' in frase:\n",
    "        print ('A frase possui a letra u')\n",
    "    else:\n",
    "        print ('A frase não possui a letra u')"
   ]
  },
  {
   "cell_type": "code",
   "execution_count": 6,
   "id": "ad920d51",
   "metadata": {},
   "outputs": [
    {
     "name": "stdout",
     "output_type": "stream",
     "text": [
      "Digite uma frase:aaa\n",
      "A frase não possui a letra u\n"
     ]
    }
   ],
   "source": [
    "temletrau()"
   ]
  },
  {
   "cell_type": "code",
   "execution_count": 4,
   "id": "c416ca76",
   "metadata": {},
   "outputs": [],
   "source": [
    "def somaquadrados(a,b):\n",
    "    somaq = a**2 + b**2\n",
    "    return somaq"
   ]
  },
  {
   "cell_type": "code",
   "execution_count": 2,
   "id": "dffc081d",
   "metadata": {
    "scrolled": true
   },
   "outputs": [
    {
     "data": {
      "text/plain": [
       "13"
      ]
     },
     "execution_count": 2,
     "metadata": {},
     "output_type": "execute_result"
    }
   ],
   "source": [
    "somaquadrados(2,3)"
   ]
  },
  {
   "cell_type": "code",
   "execution_count": null,
   "id": "abce6e39",
   "metadata": {},
   "outputs": [],
   "source": []
  }
 ],
 "metadata": {
  "kernelspec": {
   "display_name": "Python 3 (ipykernel)",
   "language": "python",
   "name": "python3"
  },
  "language_info": {
   "codemirror_mode": {
    "name": "ipython",
    "version": 3
   },
   "file_extension": ".py",
   "mimetype": "text/x-python",
   "name": "python",
   "nbconvert_exporter": "python",
   "pygments_lexer": "ipython3",
   "version": "3.9.12"
  }
 },
 "nbformat": 4,
 "nbformat_minor": 5
}
