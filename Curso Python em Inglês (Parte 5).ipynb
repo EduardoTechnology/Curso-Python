{
 "cells": [
  {
   "cell_type": "code",
   "execution_count": 15,
   "id": "a43d6243",
   "metadata": {},
   "outputs": [
    {
     "name": "stdout",
     "output_type": "stream",
     "text": [
      "The cow jumped over the moon\n",
      "The moon jumped over the cow\n",
      "The cow jumped over the moon\n",
      "The cow jumped over the moon\n",
      "Hello,my name is Bro\n",
      "Hello,my name is Bro        Nice to meet you\n",
      "Hello,my name is        Bro Nice to meet you\n",
      "The number pi is 3.14\n",
      "3.14159\n"
     ]
    }
   ],
   "source": [
    "#str.format() = optional method that gives users more control when displaying\n",
    "#               output\n",
    "\n",
    "animal=\"cow\"\n",
    "item = \"moon\"\n",
    "\n",
    "print(\"The {} jumped over the {}\".format(\"cow\",\"moon\"))\n",
    "print(\"The {1} jumped over the {0}\".format(animal,item)) #positional argument\n",
    "print(\"The {animal} jumped over the {item}\".format(animal=\"cow\",item=\"moon\")) #keyword argument\n",
    "\n",
    "text = \"The {} jumped over the {}\"\n",
    "print(text.format(animal,item))\n",
    "\n",
    "name = \"Bro\"\n",
    "\n",
    "print(\"Hello,my name is {}\".format(name))\n",
    "print(\"Hello,my name is {:10} Nice to meet you\".format(name))\n",
    "print(\"Hello,my name is {:>10} Nice to meet you\".format(name))\n",
    "#print(\"Hello,my name is {name:10} Nice to meet you\".format(name))\n",
    "\n",
    "number = 3.14159\n",
    "number2 = 1000\n",
    "print(\"The number pi is {:.2f}\".format(number)) #Dispaly 2 digits after decimal part\n",
    "print(\"The number is {:,}\".format(number2))\n",
    "print(\"The number is {:b}\".format(number)) #Binary\n",
    "print(\"The number is {:o}\".format(number)) #Octal\n",
    "print(\"The number is {:X}\".format(number)) #Hexadecimal\n",
    "print(\"The number is {:E}\".format(number)) #Scientific notation\n"
   ]
  },
  {
   "cell_type": "code",
   "execution_count": null,
   "id": "8b149f2a",
   "metadata": {},
   "outputs": [],
   "source": []
  },
  {
   "cell_type": "code",
   "execution_count": null,
   "id": "9e76567f",
   "metadata": {},
   "outputs": [],
   "source": []
  }
 ],
 "metadata": {
  "kernelspec": {
   "display_name": "Python 3 (ipykernel)",
   "language": "python",
   "name": "python3"
  },
  "language_info": {
   "codemirror_mode": {
    "name": "ipython",
    "version": 3
   },
   "file_extension": ".py",
   "mimetype": "text/x-python",
   "name": "python",
   "nbconvert_exporter": "python",
   "pygments_lexer": "ipython3",
   "version": "3.9.12"
  }
 },
 "nbformat": 4,
 "nbformat_minor": 5
}
