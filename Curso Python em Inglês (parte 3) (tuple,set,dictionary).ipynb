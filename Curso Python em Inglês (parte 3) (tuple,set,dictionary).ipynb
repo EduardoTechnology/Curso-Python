{
 "cells": [
  {
   "cell_type": "code",
   "execution_count": 1,
   "id": "7cff8bd4",
   "metadata": {},
   "outputs": [
    {
     "name": "stdout",
     "output_type": "stream",
     "text": [
      "1\n",
      "2\n",
      "Bro\n",
      "21\n",
      "male\n"
     ]
    }
   ],
   "source": [
    "#tuple = collection which is ordered and unchangeable used to group together related data\n",
    "\n",
    "student = (\"Bro\",21,\"male\")\n",
    "\n",
    "print(student.count(\"Bro\")) #Howm many times appear\n",
    "print(student.index(\"male\")) #Index\n",
    "\n",
    "for x in student:\n",
    "    print(x)\n",
    "    \n",
    "if \"bro\" in student:\n",
    "    print(\"Bro is here!\")"
   ]
  },
  {
   "cell_type": "code",
   "execution_count": 11,
   "id": "bc7992d4",
   "metadata": {},
   "outputs": [
    {
     "name": "stdout",
     "output_type": "stream",
     "text": [
      "{'napkin', 'spoon'}\n",
      "{'knife'}\n"
     ]
    }
   ],
   "source": [
    "#set = collection which is unordered, unindexed. No duplicate values\n",
    "\n",
    "utensils = {\"fork\",\"spoon\",\"knife\",\"knife\"}\n",
    "dishes = {\"bowl\",\"plate\",\"cup\",\"knife\"}\n",
    "\n",
    "utensils.add(\"napkin\")\n",
    "utensils.remove(\"fork\")\n",
    "list(set(utensils)) #convert into a list\n",
    "#utensils.clear()\n",
    "#utensils.update(dishes) #add all elements in dishes at utensils\n",
    "#dinner_table = utensils.union(dishes)\n",
    "\n",
    "print(utensils.difference(dishes))\n",
    "print(utensils.intersection(dishes))\n",
    "\n",
    "#for x in dinner_table:\n",
    "    #print(x)"
   ]
  },
  {
   "cell_type": "code",
   "execution_count": 1,
   "id": "9c66bd04",
   "metadata": {},
   "outputs": [
    {
     "name": "stdout",
     "output_type": "stream",
     "text": [
      "Moscow\n",
      "None\n",
      "dict_keys(['USA', 'India', 'China', 'Russia'])\n",
      "dict_values(['Washington DC', 'New Dehli', 'Beijing', 'Moscow'])\n",
      "dict_items([('USA', 'Washington DC'), ('India', 'New Dehli'), ('China', 'Beijing'), ('Russia', 'Moscow')])\n"
     ]
    },
    {
     "ename": "NameError",
     "evalue": "name 'value' is not defined",
     "output_type": "error",
     "traceback": [
      "\u001b[1;31m---------------------------------------------------------------------------\u001b[0m",
      "\u001b[1;31mNameError\u001b[0m                                 Traceback (most recent call last)",
      "Input \u001b[1;32mIn [1]\u001b[0m, in \u001b[0;36m<cell line: 14>\u001b[1;34m()\u001b[0m\n\u001b[0;32m     13\u001b[0m \u001b[38;5;28mprint\u001b[39m(capitals\u001b[38;5;241m.\u001b[39mitems()) \u001b[38;5;66;03m#Print all the dictionary\u001b[39;00m\n\u001b[0;32m     14\u001b[0m \u001b[38;5;28;01mfor\u001b[39;00m key,values \u001b[38;5;129;01min\u001b[39;00m capitals\u001b[38;5;241m.\u001b[39mitems():\n\u001b[1;32m---> 15\u001b[0m     \u001b[38;5;28mprint\u001b[39m(key, \u001b[43mvalue\u001b[49m)\n\u001b[0;32m     17\u001b[0m capitals\u001b[38;5;241m.\u001b[39mupdate({\u001b[38;5;124m'\u001b[39m\u001b[38;5;124mGermany\u001b[39m\u001b[38;5;124m'\u001b[39m:\u001b[38;5;124m'\u001b[39m\u001b[38;5;124mBerlin\u001b[39m\u001b[38;5;124m'\u001b[39m})\n\u001b[0;32m     18\u001b[0m capitals\u001b[38;5;241m.\u001b[39mupdate({\u001b[38;5;124m'\u001b[39m\u001b[38;5;124mUSA\u001b[39m\u001b[38;5;124m'\u001b[39m:\u001b[38;5;124m'\u001b[39m\u001b[38;5;124mLas Vegas\u001b[39m\u001b[38;5;124m'\u001b[39m})\n",
      "\u001b[1;31mNameError\u001b[0m: name 'value' is not defined"
     ]
    }
   ],
   "source": [
    "#dictionary = A changeable, unordered collection of unique key:value pairs\n",
    "#fast because they use hashing, allow to acess a value quickly\n",
    "\n",
    "capitals = {'USA':'Washington DC',\n",
    "           'India':'New Dehli',\n",
    "           'China':'Beijing',\n",
    "           'Russia':'Moscow'}\n",
    "\n",
    "print(capitals['Russia']) #Print the value of the key\n",
    "print(capitals.get('Germany')) #Is there Germany?\n",
    "print(capitals.keys()) #Print only keys\n",
    "print(capitals.values()) #Print only the values\n",
    "print(capitals.items()) #Print all the dictionary\n",
    "for key,values in capitals.items():\n",
    "    print(key, value)\n",
    "\n",
    "capitals.update({'Germany':'Berlin'})\n",
    "capitals.update({'USA':'Las Vegas'})\n",
    "capitals.pop('China') #Remove key value pair"
   ]
  },
  {
   "cell_type": "code",
   "execution_count": 16,
   "id": "a61008de",
   "metadata": {},
   "outputs": [
    {
     "name": "stdout",
     "output_type": "stream",
     "text": [
      "Bro code!\n",
      "BRO\n",
      "code!\n",
      "!\n"
     ]
    }
   ],
   "source": [
    "#index operator [] = gives acess to a sequence's element (str,list,tuples)\n",
    "\n",
    "name = \"bro Code!\"\n",
    "if(name[0].islower()):\n",
    "    name = name.capitalize()\n",
    "    \n",
    "first_name = name[0:3].upper()\n",
    "last_name = name[4:].lower() #If I don't specific index will count the rest \n",
    "last_character = name[-1] #Reverse\n",
    "    \n",
    "print(name)\n",
    "print(first_name)\n",
    "print(last_name)\n",
    "print(last_character)"
   ]
  },
  {
   "cell_type": "code",
   "execution_count": null,
   "id": "ed24aa11",
   "metadata": {},
   "outputs": [],
   "source": []
  }
 ],
 "metadata": {
  "kernelspec": {
   "display_name": "Python 3 (ipykernel)",
   "language": "python",
   "name": "python3"
  },
  "language_info": {
   "codemirror_mode": {
    "name": "ipython",
    "version": 3
   },
   "file_extension": ".py",
   "mimetype": "text/x-python",
   "name": "python",
   "nbconvert_exporter": "python",
   "pygments_lexer": "ipython3",
   "version": "3.9.12"
  }
 },
 "nbformat": 4,
 "nbformat_minor": 5
}
