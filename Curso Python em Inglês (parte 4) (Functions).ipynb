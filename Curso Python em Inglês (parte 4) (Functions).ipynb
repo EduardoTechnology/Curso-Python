{
 "cells": [
  {
   "cell_type": "code",
   "execution_count": 2,
   "id": "5bf12464",
   "metadata": {},
   "outputs": [
    {
     "name": "stdout",
     "output_type": "stream",
     "text": [
      "hello!Bro Code\n",
      "Have a nice day\n",
      "You are 21years old\n"
     ]
    }
   ],
   "source": [
    "#function = a block of code which is executed only when it is called.\n",
    "\n",
    "def hello(first_name,last_name,age): #Define a function and can use paramater\n",
    "    print(\"hello!\" + first_name + \" \"+last_name)\n",
    "    print(\"Have a nice day\")\n",
    "    print(\"You are \"+str(age)+\" years old\")\n",
    "hello(\"Bro\",\"Code\",21) #Send argument"
   ]
  },
  {
   "cell_type": "code",
   "execution_count": 3,
   "id": "cef0968a",
   "metadata": {},
   "outputs": [
    {
     "name": "stdout",
     "output_type": "stream",
     "text": [
      "48\n",
      "48\n"
     ]
    }
   ],
   "source": [
    "#return statement = Functions send Python values/objects back to the caller\n",
    "#                   These values/objects are known as the function's return value\n",
    "\n",
    "def multiply(number1,number2):\n",
    "    return number1 * number2\n",
    "    \n",
    "\n",
    "x = multiply(6,8)\n",
    "print(multiply(6,8))\n",
    "print(x)"
   ]
  },
  {
   "cell_type": "code",
   "execution_count": 4,
   "id": "3428a83e",
   "metadata": {},
   "outputs": [
    {
     "name": "stdout",
     "output_type": "stream",
     "text": [
      "Hello Bro Dude Code\n"
     ]
    }
   ],
   "source": [
    "#keyword arguments = arguments preceded by an identifier when we pass them to a function\n",
    "#                    the order of the arguments doesn't matter,unlike positional arguments\n",
    "#                    Python knows the name of the arguments that our function receives\n",
    "\n",
    "def hello(first,middle,last):\n",
    "    print(\"Hello \"+ first + \" \"+ middle +\" \"+last)\n",
    "    \n",
    "hello(last=\"Code\",middle=\"Dude\",first=\"Bro\") #Here the order doesn't matter"
   ]
  },
  {
   "cell_type": "code",
   "execution_count": 6,
   "id": "31d4cb79",
   "metadata": {},
   "outputs": [
    {
     "name": "stdout",
     "output_type": "stream",
     "text": [
      "Enter a whole positive number: 4.5\n",
      "4\n"
     ]
    }
   ],
   "source": [
    "#nested functions calls = function calls inside other function calls\n",
    "#                         innermost function calls are resolved first\n",
    "#                         returned value is used as argument for the next outer function\n",
    "#num = input(\"Enter a whole positive number:\")\n",
    "#num = float(num)\n",
    "#num = abs(num) #Absolute value\n",
    "#num = round(num) #Round the number\n",
    "\n",
    "print(round(abs(float(input(\"Enter a whole positive number: \")))))\n"
   ]
  },
  {
   "cell_type": "code",
   "execution_count": 12,
   "id": "e2de85e8",
   "metadata": {},
   "outputs": [
    {
     "name": "stdout",
     "output_type": "stream",
     "text": [
      "Code\n",
      "Code\n"
     ]
    }
   ],
   "source": [
    "#scope = The region that a variable is recognized\n",
    "#        A variable is only avaible from inside the region it is created\n",
    "#        A global and locally scoped of a variable can be created\n",
    "\n",
    "name = \"Code\" #Global Scope\n",
    "def display_name():\n",
    "    name = \"Code\" #Local scope (availble only inside this function)\n",
    "    print(name)\n",
    "    \n",
    "display_name() #Call the function\n",
    "print(name)\n",
    "    \n"
   ]
  },
  {
   "cell_type": "code",
   "execution_count": 14,
   "id": "5324cb37",
   "metadata": {},
   "outputs": [
    {
     "name": "stdout",
     "output_type": "stream",
     "text": [
      "21\n"
     ]
    }
   ],
   "source": [
    "#*args = paramater that will pack all arguments into a tuple\n",
    "#       useful so that a function can accept a varying amount of arguments\n",
    "\n",
    "def add(*stuff):\n",
    "    sum = 0\n",
    "    stuff = list(stuff) #Convert into a tuple to be able to use a index\n",
    "    stuff[0] = 0 #It is changing the index 0 to a 0\n",
    "    for i in stuff:\n",
    "        sum += i\n",
    "    return sum\n",
    "\n",
    "def addd(*args):\n",
    "    sum = 0\n",
    "    for i in range args:\n",
    "        sum += i\n",
    "    return sum\n",
    "\n",
    "print(add(1,2,3,4,5,6))\n",
    "print(addd(1,2,3,4,5,6))"
   ]
  },
  {
   "cell_type": "code",
   "execution_count": 15,
   "id": "4e738e13",
   "metadata": {},
   "outputs": [
    {
     "name": "stdout",
     "output_type": "stream",
     "text": [
      "Hello Mr. Bro Dude Code "
     ]
    }
   ],
   "source": [
    "#**kwargs =paramater that will pack all arguments into a dictionary\n",
    "#          useful so that a function can accept a varying amount of keyword arguments\n",
    "\n",
    "#def hello(**kwargs):\n",
    "#    print(\"Hello \" + kwargs['first'] + \" \" + kwargs['last'])\n",
    "    \n",
    "#hello(first=\"bro\",last=\"Code\")\n",
    "def hello(**names): #** Recognize as dictionary\n",
    "    print(\"Hello\",end=\" \")\n",
    "    for key,value in names.items():\n",
    "        print(value,end=\" \")\n",
    "        \n",
    "hello(title=\"Mr.\",first=\"Bro\",middle=\"Dude\",last=\"Code\")"
   ]
  },
  {
   "cell_type": "code",
   "execution_count": null,
   "id": "22002bc0",
   "metadata": {},
   "outputs": [],
   "source": []
  }
 ],
 "metadata": {
  "kernelspec": {
   "display_name": "Python 3 (ipykernel)",
   "language": "python",
   "name": "python3"
  },
  "language_info": {
   "codemirror_mode": {
    "name": "ipython",
    "version": 3
   },
   "file_extension": ".py",
   "mimetype": "text/x-python",
   "name": "python",
   "nbconvert_exporter": "python",
   "pygments_lexer": "ipython3",
   "version": "3.9.12"
  }
 },
 "nbformat": 4,
 "nbformat_minor": 5
}
