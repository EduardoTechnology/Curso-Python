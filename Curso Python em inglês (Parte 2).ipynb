{
 "cells": [
  {
   "cell_type": "code",
   "execution_count": 1,
   "id": "28c42819",
   "metadata": {},
   "outputs": [
    {
     "name": "stdout",
     "output_type": "stream",
     "text": [
      "How old are you?: 13\n"
     ]
    },
    {
     "ename": "TypeError",
     "evalue": "'>=' not supported between instances of 'str' and 'int'",
     "output_type": "error",
     "traceback": [
      "\u001b[1;31m---------------------------------------------------------------------------\u001b[0m",
      "\u001b[1;31mTypeError\u001b[0m                                 Traceback (most recent call last)",
      "Input \u001b[1;32mIn [1]\u001b[0m, in \u001b[0;36m<cell line: 5>\u001b[1;34m()\u001b[0m\n\u001b[0;32m      5\u001b[0m \u001b[38;5;28;01mif\u001b[39;00m age \u001b[38;5;241m==\u001b[39m \u001b[38;5;241m100\u001b[39m: \u001b[38;5;66;03m#The order matters\u001b[39;00m\n\u001b[0;32m      6\u001b[0m     \u001b[38;5;28mprint\u001b[39m(\u001b[38;5;124m\"\u001b[39m\u001b[38;5;124mYou are century old\u001b[39m\u001b[38;5;124m\"\u001b[39m)\n\u001b[1;32m----> 7\u001b[0m \u001b[38;5;28;01melif\u001b[39;00m \u001b[43mage\u001b[49m\u001b[43m \u001b[49m\u001b[38;5;241;43m>\u001b[39;49m\u001b[38;5;241;43m=\u001b[39;49m\u001b[43m \u001b[49m\u001b[38;5;241;43m18\u001b[39;49m:\n\u001b[0;32m      8\u001b[0m     \u001b[38;5;28mprint\u001b[39m(\u001b[38;5;124m\"\u001b[39m\u001b[38;5;124mYou are an adult!\u001b[39m\u001b[38;5;124m\"\u001b[39m)\n\u001b[0;32m      9\u001b[0m \u001b[38;5;28;01melif\u001b[39;00m age \u001b[38;5;241m<\u001b[39m \u001b[38;5;241m0\u001b[39m:\n",
      "\u001b[1;31mTypeError\u001b[0m: '>=' not supported between instances of 'str' and 'int'"
     ]
    }
   ],
   "source": [
    "#if statement = a block of code that will execute if it's condition is true\n",
    "\n",
    "age = int(input(\"How old are you?: \"))\n",
    "\n",
    "if age == 100: #The order matters\n",
    "    print(\"You are century old\")\n",
    "elif age >= 18:\n",
    "    print(\"You are an adult!\")\n",
    "elif age < 0:\n",
    "    print(\"You haven't been born yet!\")\n",
    "else:\n",
    "    print(\"You are a child!\")"
   ]
  },
  {
   "cell_type": "code",
   "execution_count": null,
   "id": "b427bb5b",
   "metadata": {},
   "outputs": [],
   "source": [
    "#Logical operators (and,or,not) = used to check if two or more conditional statements is true\n",
    "\n",
    "temp = int(input(\"What is the temperature outside?: \"))\n",
    "if temp >=0 and temp <=30:\n",
    "    print(\"The temperature is good today!\")\n",
    "    print(\"go outside!\")\n",
    "elif temp < 0 or temp > 30:\n",
    "    print(\"The temperature is bad today\")\n",
    "    print(\"Stay inside\")\n",
    "#if not(temp < 0 and temp > 30) This will reverse the print\n",
    "#elif not(temp < 0 or temp > 30) \n",
    "\n"
   ]
  },
  {
   "cell_type": "code",
   "execution_count": 3,
   "id": "1255668f",
   "metadata": {},
   "outputs": [
    {
     "name": "stdout",
     "output_type": "stream",
     "text": [
      "Enter your name: \n",
      "Enter your name: e\n",
      "Hello e\n",
      "Enter your name:\n",
      "Enter your name:e\n"
     ]
    }
   ],
   "source": [
    "#while loop = a statement that will execute it's block of code,as long as it's condition remais true\n",
    "name = \"\"\n",
    "while len(name) == 0:\n",
    "    name = input(\"Enter your name: \")\n",
    "print(\"Hello \"+name)\n",
    "\n",
    "name = None #The same of the code above\n",
    "while not name:\n",
    "    name = input(\"Enter your name:\")"
   ]
  },
  {
   "cell_type": "code",
   "execution_count": 3,
   "id": "8d2a0d16",
   "metadata": {},
   "outputs": [
    {
     "name": "stdout",
     "output_type": "stream",
     "text": [
      "10\n",
      "9\n",
      "8\n",
      "7\n",
      "6\n",
      "5\n",
      "4\n",
      "3\n",
      "2\n",
      "1\n",
      "Happy New Year!\n"
     ]
    }
   ],
   "source": [
    "import time\n",
    "#for loop = a statement that will excute it's block of code a limited amount of times\n",
    "#while loop = unlimited\n",
    "#for loop = limited\n",
    "#for i in range(10): will be equal to for i in range(1,10+1):\n",
    "    #print(i+1)\n",
    "#for i in range(50,100+1,):\n",
    "    #print(i)\n",
    "for seconds in range(10,0,-1): #Countdown -1\n",
    "    print(seconds)\n",
    "    time.sleep(1) #1 second per each number\n",
    "print(\"Happy New Year!\")"
   ]
  },
  {
   "cell_type": "code",
   "execution_count": 6,
   "id": "bc39b495",
   "metadata": {},
   "outputs": [
    {
     "name": "stdout",
     "output_type": "stream",
     "text": [
      "How many rows?:5\n",
      "How many columns? 6\n",
      "Enter a symbol to use:@\n",
      "@@@@@@\n",
      "@@@@@@\n",
      "@@@@@@\n",
      "@@@@@@\n",
      "@@@@@@\n"
     ]
    }
   ],
   "source": [
    "#nested loops = the \"inner loop\" will finish all of it's iterations before finishing one iteration of the \"outer loop\"\n",
    "rows = int(input(\"How many rows?:\"))\n",
    "columns = int(input(\"How many columns? \"))\n",
    "symbol = input(\"Enter a symbol to use:\")\n",
    "\n",
    "for i in range(rows):\n",
    "    for j in range(columns):\n",
    "        print(symbol, end=\"\")\n",
    "    print()"
   ]
  },
  {
   "cell_type": "code",
   "execution_count": 7,
   "id": "133f75b5",
   "metadata": {},
   "outputs": [
    {
     "name": "stdout",
     "output_type": "stream",
     "text": [
      "Enter your name: edu\n",
      "1234567890"
     ]
    }
   ],
   "source": [
    "#Loop Control Statements = change a loops execution from it's normal sequence\n",
    "#break = used to terminate the loop entirely\n",
    "#continue = skips to the next iteration of the loop\n",
    "#pass = does nothing,acts as a placeholder\n",
    "while True:\n",
    "    name = input(\"Enter your name: \")\n",
    "    if name != \"\":\n",
    "        break\n",
    "phone_number = \"123-456-7890\"\n",
    "for i in phone_number:\n",
    "    if i == \"-\":\n",
    "        continue #Skip the \"-\"\n",
    "    print(i, end=\"\")"
   ]
  },
  {
   "cell_type": "code",
   "execution_count": 8,
   "id": "3af0a1ce",
   "metadata": {},
   "outputs": [
    {
     "name": "stdout",
     "output_type": "stream",
     "text": [
      "1\n",
      "2\n",
      "3\n",
      "4\n",
      "5\n",
      "6\n",
      "7\n",
      "8\n",
      "9\n",
      "10\n",
      "11\n",
      "12\n",
      "14\n",
      "15\n",
      "16\n",
      "17\n",
      "18\n",
      "19\n",
      "20\n"
     ]
    }
   ],
   "source": [
    "for i in range(1,21):\n",
    "    if i == 13:\n",
    "        pass\n",
    "    else:\n",
    "        print(i)\n",
    "    "
   ]
  },
  {
   "cell_type": "code",
   "execution_count": 10,
   "id": "28b8277b",
   "metadata": {},
   "outputs": [
    {
     "name": "stdout",
     "output_type": "stream",
     "text": [
      "sushui\n",
      "hamburger\n",
      "spaghetti\n",
      "sushui\n"
     ]
    }
   ],
   "source": [
    "#list = used to store multiple items in a single variable\n",
    "food = [\"pizza\",\"hamburger\",\"hotdog\",\"spaghetti\"]\n",
    "food[0] = \"sushui\" #Update the element\n",
    "food.append(\"ice cream\")\n",
    "food.remove(\"hotdog\")\n",
    "food.pop() #Remove the last element\n",
    "food.insert(0,\"cake\") #Change the element 0 for cake\n",
    "food.sort() #Organize in alphabet\n",
    "food.clear() #Clear the list\n",
    "for x in food:\n",
    "    print(x)\n",
    "print(food[0])"
   ]
  },
  {
   "cell_type": "code",
   "execution_count": null,
   "id": "0b6e5453",
   "metadata": {},
   "outputs": [],
   "source": [
    "#2D lists = a list of lists\n",
    "\n",
    "drinks = [\"coofe\",\"soda\",\"tea\"]\n",
    "dinner = [\"pizza\",\"hamburger\",\"hotdog\"]\n",
    "dessert = [\"cake\",\"ice cream\"]\n",
    "\n",
    "food = [drinks,dinner,dessert]\n",
    "\n",
    "print(food[0][0]) #Primeiro seleciona a lista depois a posição o elemento da lista"
   ]
  }
 ],
 "metadata": {
  "kernelspec": {
   "display_name": "Python 3 (ipykernel)",
   "language": "python",
   "name": "python3"
  },
  "language_info": {
   "codemirror_mode": {
    "name": "ipython",
    "version": 3
   },
   "file_extension": ".py",
   "mimetype": "text/x-python",
   "name": "python",
   "nbconvert_exporter": "python",
   "pygments_lexer": "ipython3",
   "version": "3.9.12"
  }
 },
 "nbformat": 4,
 "nbformat_minor": 5
}
