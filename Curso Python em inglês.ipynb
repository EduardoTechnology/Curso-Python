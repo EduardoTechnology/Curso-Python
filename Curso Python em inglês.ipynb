{
 "cells": [
  {
   "cell_type": "code",
   "execution_count": 3,
   "id": "1cdb8ee5",
   "metadata": {},
   "outputs": [
    {
     "name": "stdout",
     "output_type": "stream",
     "text": [
      "Your age is 21\n"
     ]
    }
   ],
   "source": [
    "age = 21\n",
    "print (\"Your age is \"+ str(age))"
   ]
  },
  {
   "cell_type": "code",
   "execution_count": 13,
   "id": "d61d1941",
   "metadata": {},
   "outputs": [
    {
     "name": "stdout",
     "output_type": "stream",
     "text": [
      "3\n",
      "1\n",
      "BRO\n",
      "False\n",
      "True\n",
      "1\n",
      "brf\n",
      "brobrobro\n",
      "Bro\n"
     ]
    }
   ],
   "source": [
    "name = \"bro\"\n",
    "print(len(name))\n",
    "print(name.find(\"r\"))\n",
    "print(name.upper())\n",
    "print(name.isdigit())\n",
    "print(name.isalpha())\n",
    "print(name.count(\"o\"))\n",
    "print(name.replace(\"o\",\"f\"))\n",
    "print(name*3)\n",
    "print(name.capitalize())"
   ]
  },
  {
   "cell_type": "code",
   "execution_count": 16,
   "id": "dff17649",
   "metadata": {},
   "outputs": [
    {
     "name": "stdout",
     "output_type": "stream",
     "text": [
      "1\n",
      "2\n",
      "3.0\n"
     ]
    }
   ],
   "source": [
    "#Type casting (Convert the data type of a value to another data type)\n",
    "x = 1\n",
    "y = 2.0\n",
    "z = \"3\"\n",
    "\n",
    "x = str(x)\n",
    "y = int(y)\n",
    "z = float(z)\n",
    "\n",
    "print(x)\n",
    "print(y)\n",
    "print(z)"
   ]
  },
  {
   "cell_type": "code",
   "execution_count": 29,
   "id": "bacebb16",
   "metadata": {},
   "outputs": [
    {
     "name": "stdout",
     "output_type": "stream",
     "text": [
      "What is your name? afs\n",
      "How old are you? 23\n",
      "How tall are you?1.5\n",
      "Hello afs\n",
      "You are 23 old\n",
      "You are 1.5 cm tall\n"
     ]
    }
   ],
   "source": [
    "name = input(\"What is your name? \")\n",
    "age = int(input(\"How old are you? \"))\n",
    "height = float(input(\"How tall are you?\"))\n",
    "\n",
    "print(\"Hello \" + name)\n",
    "print(\"You are \" + str(age) + \" old\")\n",
    "print(\"You are \" + str(height) + \" cm tall\")"
   ]
  },
  {
   "cell_type": "code",
   "execution_count": 35,
   "id": "b3e4ff68",
   "metadata": {},
   "outputs": [
    {
     "name": "stdout",
     "output_type": "stream",
     "text": [
      "3\n",
      "4\n",
      "3\n",
      "3.14\n",
      "9.8596\n",
      "20.493901531919196\n",
      "3\n",
      "1\n"
     ]
    }
   ],
   "source": [
    "import math\n",
    "\n",
    "pi = 3.14\n",
    "x = 1\n",
    "y = 2\n",
    "z = 3\n",
    "print(round(pi)) #Arredonda pro mais próximo inteiro\n",
    "print(math.ceil(pi)) #Arredonda para cima\n",
    "print(math.floor(pi)) #Arredonda para baixo\n",
    "print(abs(pi)) #Distância do zero\n",
    "print(pow(pi,2)) #Eleva ao valor\n",
    "print(math.sqrt(420))\n",
    "print(max(x,y,z)) #Encontra o valor máximo das varáveis analisadas\n",
    "print(min(x,y,z)) #Encontra o valor mínimo das variáveis analisadas"
   ]
  },
  {
   "cell_type": "code",
   "execution_count": 40,
   "id": "b01701ce",
   "metadata": {},
   "outputs": [
    {
     "name": "stdout",
     "output_type": "stream",
     "text": [
      "Eduardo\n",
      "Euro\n",
      "arierreF odraudE\n",
      "google\n"
     ]
    }
   ],
   "source": [
    "name = \"Eduardo Ferreira\" #Slicing and step \n",
    "#You can use slice() or index[]\n",
    "first_name = name[0:7] #Index\n",
    "funky_name = name[0:7:2]\n",
    "reversed_name = name [::-1] #Quando o \":\" não tem valor, é considerado 0\n",
    "print(first_name)\n",
    "print(funky_name)\n",
    "print(reversed_name)\n",
    "\n",
    "website = \"http://google.com\" #Slice [start,stop,step]\n",
    "slice = slice(7,-4) #slice upward count and backward count\n",
    "print(website[slice])"
   ]
  },
  {
   "cell_type": "code",
   "execution_count": null,
   "id": "bad33c6a",
   "metadata": {},
   "outputs": [],
   "source": []
  }
 ],
 "metadata": {
  "kernelspec": {
   "display_name": "Python 3 (ipykernel)",
   "language": "python",
   "name": "python3"
  },
  "language_info": {
   "codemirror_mode": {
    "name": "ipython",
    "version": 3
   },
   "file_extension": ".py",
   "mimetype": "text/x-python",
   "name": "python",
   "nbconvert_exporter": "python",
   "pygments_lexer": "ipython3",
   "version": "3.9.12"
  }
 },
 "nbformat": 4,
 "nbformat_minor": 5
}
