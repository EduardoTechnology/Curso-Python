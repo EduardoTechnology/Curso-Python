{
 "cells": [
  {
   "cell_type": "code",
   "execution_count": 3,
   "id": "933e5531",
   "metadata": {},
   "outputs": [
    {
     "name": "stdout",
     "output_type": "stream",
     "text": [
      "{'Curso': 'Python', 'Produtor': 'DidaticaTech', 'Preço': '300 reais', 'Nota': 10}\n"
     ]
    },
    {
     "ename": "KeyError",
     "evalue": "'Python'",
     "output_type": "error",
     "traceback": [
      "\u001b[1;31m---------------------------------------------------------------------------\u001b[0m",
      "\u001b[1;31mKeyError\u001b[0m                                  Traceback (most recent call last)",
      "Input \u001b[1;32mIn [3]\u001b[0m, in \u001b[0;36m<cell line: 6>\u001b[1;34m()\u001b[0m\n\u001b[0;32m      1\u001b[0m dicionario \u001b[38;5;241m=\u001b[39m {\u001b[38;5;124m'\u001b[39m\u001b[38;5;124mCurso\u001b[39m\u001b[38;5;124m'\u001b[39m:\u001b[38;5;124m'\u001b[39m\u001b[38;5;124mPython\u001b[39m\u001b[38;5;124m'\u001b[39m,\n\u001b[0;32m      2\u001b[0m              \u001b[38;5;124m'\u001b[39m\u001b[38;5;124mProdutor\u001b[39m\u001b[38;5;124m'\u001b[39m:\u001b[38;5;124m'\u001b[39m\u001b[38;5;124mDidaticaTech\u001b[39m\u001b[38;5;124m'\u001b[39m,\n\u001b[0;32m      3\u001b[0m              \u001b[38;5;124m'\u001b[39m\u001b[38;5;124mPreço\u001b[39m\u001b[38;5;124m'\u001b[39m:\u001b[38;5;124m'\u001b[39m\u001b[38;5;124m300 reais\u001b[39m\u001b[38;5;124m'\u001b[39m,\n\u001b[0;32m      4\u001b[0m              \u001b[38;5;124m'\u001b[39m\u001b[38;5;124mNota\u001b[39m\u001b[38;5;124m'\u001b[39m:\u001b[38;5;241m10\u001b[39m}\n\u001b[0;32m      5\u001b[0m \u001b[38;5;28mprint\u001b[39m(dicionario)\n\u001b[1;32m----> 6\u001b[0m a \u001b[38;5;241m=\u001b[39m \u001b[43mdicionario\u001b[49m\u001b[43m[\u001b[49m\u001b[38;5;124;43m'\u001b[39;49m\u001b[38;5;124;43mPython\u001b[39;49m\u001b[38;5;124;43m'\u001b[39;49m\u001b[43m]\u001b[49m\n\u001b[0;32m      7\u001b[0m \u001b[38;5;28mprint\u001b[39m(a)\n",
      "\u001b[1;31mKeyError\u001b[0m: 'Python'"
     ]
    }
   ],
   "source": [
    "dicionario = {'Curso':'Python',\n",
    "             'Produtor':'DidaticaTech',\n",
    "             'Preço':'300 reais',\n",
    "             'Nota':10}\n",
    "print(dicionario)\n",
    "a = dicionario['Python']\n",
    "print(a)"
   ]
  },
  {
   "cell_type": "code",
   "execution_count": null,
   "id": "6939fcfa",
   "metadata": {},
   "outputs": [],
   "source": []
  }
 ],
 "metadata": {
  "kernelspec": {
   "display_name": "Python 3 (ipykernel)",
   "language": "python",
   "name": "python3"
  },
  "language_info": {
   "codemirror_mode": {
    "name": "ipython",
    "version": 3
   },
   "file_extension": ".py",
   "mimetype": "text/x-python",
   "name": "python",
   "nbconvert_exporter": "python",
   "pygments_lexer": "ipython3",
   "version": "3.9.12"
  }
 },
 "nbformat": 4,
 "nbformat_minor": 5
}
