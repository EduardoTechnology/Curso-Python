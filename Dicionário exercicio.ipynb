{
 "cells": [
  {
   "cell_type": "code",
   "execution_count": 8,
   "id": "7cb1f797",
   "metadata": {},
   "outputs": [
    {
     "name": "stdout",
     "output_type": "stream",
     "text": [
      "Digite um nome e para encerrar digite fimeduardo\n",
      "Insira a idade13\n",
      "Digite um nome e para encerrar digite fimpedro\n",
      "Insira a idade14\n",
      "Digite um nome e para encerrar digite fimfim\n",
      "['eduardo', 13]\n",
      "['pedro', 14]\n"
     ]
    }
   ],
   "source": [
    "usuario = {}\n",
    "contador = 0\n",
    "while True:\n",
    "    nome = input('Digite um nome e para encerrar digite fim')\n",
    "    if nome != 'fim':\n",
    "        usuario[contador] = [nome, (int(input('Insira a idade')))]\n",
    "        contador += 1\n",
    "    else:\n",
    "        break\n",
    "for i in usuario.values():\n",
    "    print(i[0], 'tem' i[1], 'anos')"
   ]
  },
  {
   "cell_type": "code",
   "execution_count": null,
   "id": "f74db2da",
   "metadata": {},
   "outputs": [],
   "source": []
  },
  {
   "cell_type": "code",
   "execution_count": null,
   "id": "737f9800",
   "metadata": {},
   "outputs": [],
   "source": []
  }
 ],
 "metadata": {
  "kernelspec": {
   "display_name": "Python 3 (ipykernel)",
   "language": "python",
   "name": "python3"
  },
  "language_info": {
   "codemirror_mode": {
    "name": "ipython",
    "version": 3
   },
   "file_extension": ".py",
   "mimetype": "text/x-python",
   "name": "python",
   "nbconvert_exporter": "python",
   "pygments_lexer": "ipython3",
   "version": "3.9.12"
  }
 },
 "nbformat": 4,
 "nbformat_minor": 5
}
