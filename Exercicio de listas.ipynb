{
 "cells": [
  {
   "cell_type": "code",
   "execution_count": 1,
   "id": "f4d703ff",
   "metadata": {},
   "outputs": [
    {
     "name": "stdout",
     "output_type": "stream",
     "text": [
      "Digite um nome e para encerrar digite fim:pedro\n",
      "Digite uma idade:12\n",
      "Digite um nome e para encerrar digite fim:caio\n",
      "Digite uma idade:13\n",
      "Digite um nome e para encerrar digite fim:flavio\n",
      "Digite uma idade:14\n",
      "Digite um nome e para encerrar digite fim:fim\n",
      "pedro tem 12 anos.\n",
      "caio tem 13 anos.\n",
      "flavio tem 14 anos.\n"
     ]
    }
   ],
   "source": [
    "nomes = []\n",
    "idades = []\n",
    "while True:\n",
    "    nome = input('Digite um nome e para encerrar digite fim:')\n",
    "    if nome != 'fim':\n",
    "        nomes.append(nome) #Inclui a variável nome na lista de nomes\n",
    "        idades.append(int(input('Digite uma idade:')))\n",
    "    else:\n",
    "        break\n",
    "for i in range (len(nomes)): #Aqui indica o comprimento da lista nomes em forma de índice e realiza um loop for\n",
    "    print(nomes[i], 'tem', idades[i], 'anos.') #Imprime os nomes e idades do índice representado"
   ]
  },
  {
   "cell_type": "code",
   "execution_count": 9,
   "id": "626286fa",
   "metadata": {},
   "outputs": [
    {
     "name": "stdout",
     "output_type": "stream",
     "text": [
      "Pesquisa um nome ou idadepedro\n",
      "12\n"
     ]
    }
   ],
   "source": [
    "pesquisa = input('Pesquisa um nome ou idade')\n",
    "            \n",
    "if pesquisa in nomes:\n",
    "            for i in range(len(nomes)):\n",
    "             if pesquisa == nomes[i]: #Lembrar de dar espaço para deixar o if dentro do for\n",
    "                print(idades[i])\n",
    "elif pesquisa.isnumeric() and int(pesquisa) in idades:\n",
    "            for i in range(len(idades)):\n",
    "             if pesquisa == idades[i]:\n",
    "                print (nomes[i])\n",
    "else:\n",
    "            print('Nenhum resultado encontrado')\n",
    "            \n",
    "            "
   ]
  },
  {
   "cell_type": "code",
   "execution_count": null,
   "id": "16d3efd1",
   "metadata": {},
   "outputs": [],
   "source": []
  },
  {
   "cell_type": "code",
   "execution_count": null,
   "id": "957fcb39",
   "metadata": {},
   "outputs": [],
   "source": []
  }
 ],
 "metadata": {
  "kernelspec": {
   "display_name": "Python 3 (ipykernel)",
   "language": "python",
   "name": "python3"
  },
  "language_info": {
   "codemirror_mode": {
    "name": "ipython",
    "version": 3
   },
   "file_extension": ".py",
   "mimetype": "text/x-python",
   "name": "python",
   "nbconvert_exporter": "python",
   "pygments_lexer": "ipython3",
   "version": "3.9.12"
  }
 },
 "nbformat": 4,
 "nbformat_minor": 5
}
