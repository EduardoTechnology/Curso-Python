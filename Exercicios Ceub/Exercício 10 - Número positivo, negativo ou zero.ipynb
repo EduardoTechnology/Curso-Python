{
 "cells": [
  {
   "cell_type": "code",
   "execution_count": null,
   "id": "4926ea9e",
   "metadata": {},
   "outputs": [],
   "source": [
    "numero = int(input(\"Digite um número para saber se é positivo,negativo ou zero\"))\n",
    "if numero == 0:\n",
    "    print(\"O número é zero\")\n",
    "elif numero > 0:\n",
    "    print(\"O número é positivo\")\n",
    "else:\n",
    "    print(\"O número é negativo\")"
   ]
  },
  {
   "cell_type": "code",
   "execution_count": null,
   "id": "b043cfc9",
   "metadata": {},
   "outputs": [],
   "source": []
  },
  {
   "cell_type": "code",
   "execution_count": null,
   "id": "6d0edfab",
   "metadata": {},
   "outputs": [],
   "source": []
  }
 ],
 "metadata": {
  "kernelspec": {
   "display_name": "Python 3 (ipykernel)",
   "language": "python",
   "name": "python3"
  },
  "language_info": {
   "codemirror_mode": {
    "name": "ipython",
    "version": 3
   },
   "file_extension": ".py",
   "mimetype": "text/x-python",
   "name": "python",
   "nbconvert_exporter": "python",
   "pygments_lexer": "ipython3",
   "version": "3.9.12"
  }
 },
 "nbformat": 4,
 "nbformat_minor": 5
}
