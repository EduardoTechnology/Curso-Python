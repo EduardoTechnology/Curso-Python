{
 "cells": [
  {
   "cell_type": "code",
   "execution_count": 13,
   "id": "10def301",
   "metadata": {},
   "outputs": [
    {
     "name": "stdout",
     "output_type": "stream",
     "text": [
      "Digite números para descobrir somente os números pares ou 0 para encerrar4\n",
      "Digite números para descobrir somente os números pares ou 0 para encerrar7\n",
      "Digite números para descobrir somente os números pares ou 0 para encerrar8\n",
      "Digite números para descobrir somente os números pares ou 0 para encerrar10\n",
      "Digite números para descobrir somente os números pares ou 0 para encerrar0\n",
      "[4, 8, 10, 0]\n"
     ]
    }
   ],
   "source": [
    "lista = []\n",
    "numeros = int\n",
    "while numeros!=0:\n",
    "    numeros = int(input(\"Digite números para descobrir somente os números pares ou 0 para encerrar\"))\n",
    "    if numeros%2==0:\n",
    "         lista.append(numeros)\n",
    "    else:\n",
    "        pass\n",
    "print (lista)\n",
    "   \n"
   ]
  },
  {
   "cell_type": "code",
   "execution_count": null,
   "id": "053a59e4",
   "metadata": {},
   "outputs": [],
   "source": []
  },
  {
   "cell_type": "code",
   "execution_count": null,
   "id": "1b60ff8c",
   "metadata": {},
   "outputs": [],
   "source": []
  },
  {
   "cell_type": "code",
   "execution_count": null,
   "id": "48669d11",
   "metadata": {},
   "outputs": [],
   "source": []
  }
 ],
 "metadata": {
  "kernelspec": {
   "display_name": "Python 3 (ipykernel)",
   "language": "python",
   "name": "python3"
  },
  "language_info": {
   "codemirror_mode": {
    "name": "ipython",
    "version": 3
   },
   "file_extension": ".py",
   "mimetype": "text/x-python",
   "name": "python",
   "nbconvert_exporter": "python",
   "pygments_lexer": "ipython3",
   "version": "3.9.12"
  }
 },
 "nbformat": 4,
 "nbformat_minor": 5
}
