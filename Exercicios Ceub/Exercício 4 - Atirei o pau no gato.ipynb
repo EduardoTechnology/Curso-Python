{
 "cells": [
  {
   "cell_type": "code",
   "execution_count": 3,
   "id": "b49ecaf0",
   "metadata": {},
   "outputs": [
    {
     "name": "stdout",
     "output_type": "stream",
     "text": [
      "Atirei o pau no gato\n",
      "  Mas o gato não morreu\n",
      "  Dona Chica,admirou-se\n",
      "  do berro que o gato deu\n"
     ]
    }
   ],
   "source": [
    "print(\"Atirei o pau no gato\\n  Mas o gato não morreu\\n  Dona Chica,admirou-se\\n  do berro que o gato deu\")"
   ]
  },
  {
   "cell_type": "code",
   "execution_count": null,
   "id": "eda28f63",
   "metadata": {},
   "outputs": [],
   "source": []
  }
 ],
 "metadata": {
  "kernelspec": {
   "display_name": "Python 3 (ipykernel)",
   "language": "python",
   "name": "python3"
  },
  "language_info": {
   "codemirror_mode": {
    "name": "ipython",
    "version": 3
   },
   "file_extension": ".py",
   "mimetype": "text/x-python",
   "name": "python",
   "nbconvert_exporter": "python",
   "pygments_lexer": "ipython3",
   "version": "3.9.12"
  }
 },
 "nbformat": 4,
 "nbformat_minor": 5
}
