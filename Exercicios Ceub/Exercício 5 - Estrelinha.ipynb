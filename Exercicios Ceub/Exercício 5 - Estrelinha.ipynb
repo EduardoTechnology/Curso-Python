{
 "cells": [
  {
   "cell_type": "code",
   "execution_count": 4,
   "id": "2a3eff74",
   "metadata": {},
   "outputs": [
    {
     "name": "stdout",
     "output_type": "stream",
     "text": [
      "Estrelinha, estrelinha, lá no céu,\n",
      "  Como eu quero saber o que você é!\n",
      "    Lá no alto, tão distante,\n",
      "    Como um diamante cintilante.\n",
      "Estrelinha, estrelinha, lá no céu,\n",
      "  Como eu quero saber o que você é!\n"
     ]
    }
   ],
   "source": [
    "print(\"Estrelinha, estrelinha, lá no céu,\\n  Como eu quero saber o que você é!\\n    Lá no alto, tão distante,\\n    Como um diamante cintilante.\\nEstrelinha, estrelinha, lá no céu,\\n  Como eu quero saber o que você é!\")"
   ]
  },
  {
   "cell_type": "code",
   "execution_count": null,
   "id": "183114e4",
   "metadata": {},
   "outputs": [],
   "source": []
  }
 ],
 "metadata": {
  "kernelspec": {
   "display_name": "Python 3 (ipykernel)",
   "language": "python",
   "name": "python3"
  },
  "language_info": {
   "codemirror_mode": {
    "name": "ipython",
    "version": 3
   },
   "file_extension": ".py",
   "mimetype": "text/x-python",
   "name": "python",
   "nbconvert_exporter": "python",
   "pygments_lexer": "ipython3",
   "version": "3.9.12"
  }
 },
 "nbformat": 4,
 "nbformat_minor": 5
}
