{
 "cells": [
  {
   "cell_type": "code",
   "execution_count": 4,
   "id": "40c9bd50",
   "metadata": {},
   "outputs": [
    {
     "name": "stdout",
     "output_type": "stream",
     "text": [
      "Qual foi a nota 1?4\n",
      "Qual foi a nota 2?5\n",
      "4.5\n"
     ]
    }
   ],
   "source": [
    "def media(nota1,nota2):\n",
    "    return (nota1+nota2)/2\n",
    "nota1 = float(input(\"Qual foi a nota 1?\"))\n",
    "nota2 = float(input(\"Qual foi a nota 2?\"))\n",
    "resultado = media(nota1,nota2)\n",
    "print (resultado)\n",
    "    "
   ]
  },
  {
   "cell_type": "code",
   "execution_count": null,
   "id": "b5301fac",
   "metadata": {},
   "outputs": [],
   "source": []
  }
 ],
 "metadata": {
  "kernelspec": {
   "display_name": "Python 3 (ipykernel)",
   "language": "python",
   "name": "python3"
  },
  "language_info": {
   "codemirror_mode": {
    "name": "ipython",
    "version": 3
   },
   "file_extension": ".py",
   "mimetype": "text/x-python",
   "name": "python",
   "nbconvert_exporter": "python",
   "pygments_lexer": "ipython3",
   "version": "3.9.12"
  }
 },
 "nbformat": 4,
 "nbformat_minor": 5
}
