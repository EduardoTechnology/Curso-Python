{
 "cells": [
  {
   "cell_type": "code",
   "execution_count": null,
   "id": "21c679c4",
   "metadata": {},
   "outputs": [],
   "source": [
    "lista = []\n",
    "numero = int\n",
    "while numero !=0:\n",
    "    numero = int(input(\"Digite um número:\"))\n",
    "    lista.append(numero)\n",
    "\n",
    "else:\n",
    "    soma = sum(lista)\n",
    "    print(\"A soma dos números é: \"+ str(soma))\n",
    "\n"
   ]
  },
  {
   "cell_type": "code",
   "execution_count": null,
   "id": "cd5077e4",
   "metadata": {},
   "outputs": [],
   "source": []
  },
  {
   "cell_type": "code",
   "execution_count": null,
   "id": "66252eff",
   "metadata": {},
   "outputs": [],
   "source": []
  },
  {
   "cell_type": "code",
   "execution_count": null,
   "id": "2938d31a",
   "metadata": {},
   "outputs": [],
   "source": []
  }
 ],
 "metadata": {
  "kernelspec": {
   "display_name": "Python 3 (ipykernel)",
   "language": "python",
   "name": "python3"
  },
  "language_info": {
   "codemirror_mode": {
    "name": "ipython",
    "version": 3
   },
   "file_extension": ".py",
   "mimetype": "text/x-python",
   "name": "python",
   "nbconvert_exporter": "python",
   "pygments_lexer": "ipython3",
   "version": "3.9.12"
  }
 },
 "nbformat": 4,
 "nbformat_minor": 5
}
