{
 "cells": [
  {
   "cell_type": "code",
   "execution_count": 20,
   "id": "71aae4cf",
   "metadata": {},
   "outputs": [
    {
     "name": "stdout",
     "output_type": "stream",
     "text": [
      "Digite números para calcular a média ou 0 para encerrar: 9\n",
      "Digite números para calcular a média ou 0 para encerrar: 8\n",
      "Digite números para calcular a média ou 0 para encerrar: 7\n",
      "Digite números para calcular a média ou 0 para encerrar: 0\n",
      "A média é 8.0\n"
     ]
    }
   ],
   "source": [
    "lista = []\n",
    "numero = int\n",
    "resultado = 0\n",
    "divisao = 0\n",
    "while numero!=0:\n",
    "    numero = int(input(\"Digite números para calcular a média ou 0 para encerrar: \"))\n",
    "    lista.append(numero)\n",
    "else:\n",
    "    soma = sum(lista)\n",
    "    divisao = len(lista)\n",
    "    resultado = soma/(divisao-1)\n",
    "    print(\"A média é \"+str(resultado))\n",
    "        "
   ]
  },
  {
   "cell_type": "code",
   "execution_count": null,
   "id": "965d43e0",
   "metadata": {},
   "outputs": [],
   "source": []
  }
 ],
 "metadata": {
  "kernelspec": {
   "display_name": "Python 3 (ipykernel)",
   "language": "python",
   "name": "python3"
  },
  "language_info": {
   "codemirror_mode": {
    "name": "ipython",
    "version": 3
   },
   "file_extension": ".py",
   "mimetype": "text/x-python",
   "name": "python",
   "nbconvert_exporter": "python",
   "pygments_lexer": "ipython3",
   "version": "3.9.12"
  }
 },
 "nbformat": 4,
 "nbformat_minor": 5
}
