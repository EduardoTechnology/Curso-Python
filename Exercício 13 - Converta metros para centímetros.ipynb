{
 "cells": [
  {
   "cell_type": "code",
   "execution_count": 7,
   "id": "4b844bbf",
   "metadata": {},
   "outputs": [
    {
     "name": "stdout",
     "output_type": "stream",
     "text": [
      "Digite um valor em metros para converter em centímetros2\n",
      "200 CM\n"
     ]
    }
   ],
   "source": [
    "metro = input(\"Digite um valor em metros para converter em centímetros\")\n",
    "if \".\" in metro:\n",
    "    metro = float(metro)\n",
    "else:\n",
    "    metro = int(metro)\n",
    "metro = metro*100\n",
    "print(str(metro)+\" CM\")\n"
   ]
  },
  {
   "cell_type": "code",
   "execution_count": null,
   "id": "10d1c877",
   "metadata": {},
   "outputs": [],
   "source": []
  },
  {
   "cell_type": "code",
   "execution_count": null,
   "id": "233d6728",
   "metadata": {},
   "outputs": [],
   "source": []
  }
 ],
 "metadata": {
  "kernelspec": {
   "display_name": "Python 3 (ipykernel)",
   "language": "python",
   "name": "python3"
  },
  "language_info": {
   "codemirror_mode": {
    "name": "ipython",
    "version": 3
   },
   "file_extension": ".py",
   "mimetype": "text/x-python",
   "name": "python",
   "nbconvert_exporter": "python",
   "pygments_lexer": "ipython3",
   "version": "3.9.12"
  }
 },
 "nbformat": 4,
 "nbformat_minor": 5
}
