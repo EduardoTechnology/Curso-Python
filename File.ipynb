{
 "cells": [
  {
   "cell_type": "code",
   "execution_count": 4,
   "id": "37d10735",
   "metadata": {},
   "outputs": [
    {
     "name": "stdout",
     "output_type": "stream",
     "text": [
      "That location exists!\n",
      "That isfile\n"
     ]
    }
   ],
   "source": [
    "import os\n",
    "\n",
    "path = \"C:\\\\Users\\\\Eduardo\\\\Desktop\\\\teste.txt\"\n",
    "\n",
    "if os.path.exists(path):\n",
    "    print(\"That location exists!\")\n",
    "    if os.path.isfile(path):\n",
    "        print(\"That is file\")\n",
    "    elif os.path.isdir(path):\n",
    "        print(\"That is directory!\")\n",
    "else:\n",
    "    print(\"That locaton doesn't exist!\")"
   ]
  },
  {
   "cell_type": "code",
   "execution_count": 8,
   "id": "1997e016",
   "metadata": {},
   "outputs": [
    {
     "name": "stdout",
     "output_type": "stream",
     "text": [
      "rwerwerrwe\n",
      "rwerwer\n"
     ]
    }
   ],
   "source": [
    "try:\n",
    "    with open('C:\\\\Users\\\\Eduardo\\\\Desktop\\\\teste.txt') as file:\n",
    "        print(file.read())\n",
    "    \n",
    "except FileNotFoundError:\n",
    "    print(\"That file wat not found\")"
   ]
  },
  {
   "cell_type": "code",
   "execution_count": 12,
   "id": "eece0c80",
   "metadata": {},
   "outputs": [],
   "source": [
    "text = \"This text has been overwritten\"\n",
    "with open ('C:\\\\Users\\\\Eduardo\\\\Desktop\\\\teste.txt','w') as file:\n",
    "           file.write(text)"
   ]
  },
  {
   "cell_type": "code",
   "execution_count": 14,
   "id": "52436b66",
   "metadata": {},
   "outputs": [
    {
     "data": {
      "text/plain": [
       "'C:\\\\Users\\\\Eduardo\\\\Desktop\\\\copy.txt'"
      ]
     },
     "execution_count": 14,
     "metadata": {},
     "output_type": "execute_result"
    }
   ],
   "source": [
    "#copyfile() = copies contents of a file\n",
    "#copy() = copyfile() + permission mode + destination can be a directory\n",
    "#copy2() = copy() + copies metadata (file's creation and modification times)\n",
    "\n",
    "import shutil\n",
    "\n",
    "shutil.copyfile('C:\\\\Users\\\\Eduardo\\\\Desktop\\\\teste.txt','C:\\\\Users\\\\Eduardo\\\\Desktop\\\\copy.txt') #src,destination"
   ]
  },
  {
   "cell_type": "code",
   "execution_count": 19,
   "id": "0550d082",
   "metadata": {},
   "outputs": [
    {
     "name": "stdout",
     "output_type": "stream",
     "text": [
      "C:\\Users\\Eduardo\\Desktop\\test.txt  was moved\n"
     ]
    }
   ],
   "source": [
    "import os\n",
    "\n",
    "source = \"C:\\\\Users\\\\Eduardo\\\\Desktop\\\\test.txt \"\n",
    "destination = \"C:\\\\Users\\\\Eduardo\\\\Desktop\\\\Update\\\\test.txt \"\n",
    "\n",
    "try:\n",
    "    if os.path.exists(destination):\n",
    "        print(\"There is already a file there\")\n",
    "    else:\n",
    "        os.replace(source,destination)\n",
    "        print(source + \" was moved\")\n",
    "    \n",
    "    \n",
    "except FileNotFoundError:\n",
    "    print(source + \" was not found\")"
   ]
  },
  {
   "cell_type": "code",
   "execution_count": 25,
   "id": "0844234e",
   "metadata": {},
   "outputs": [
    {
     "name": "stdout",
     "output_type": "stream",
     "text": [
      "That file was not found\n"
     ]
    }
   ],
   "source": [
    "import os\n",
    "import shutil\n",
    "\n",
    "path =\"C:\\\\Users\\\\Eduardo\\\\Desktop\\\\Update\\\\test2.txt\"\n",
    "path2 = \"C:\\\\Users\\\\Eduardo\\\\Desktop\\\\test\"\n",
    "try:\n",
    "    shutil.rmtree(path2) #Delete file\n",
    "    os.remove(path) #Delete a file\n",
    "except FileNotFoundError:\n",
    "    print(\"That file was not found\")\n",
    "else:\n",
    "    print(path2 + \" was delete\")\n"
   ]
  },
  {
   "cell_type": "code",
   "execution_count": null,
   "id": "16eec89f",
   "metadata": {},
   "outputs": [],
   "source": []
  }
 ],
 "metadata": {
  "kernelspec": {
   "display_name": "Python 3 (ipykernel)",
   "language": "python",
   "name": "python3"
  },
  "language_info": {
   "codemirror_mode": {
    "name": "ipython",
    "version": 3
   },
   "file_extension": ".py",
   "mimetype": "text/x-python",
   "name": "python",
   "nbconvert_exporter": "python",
   "pygments_lexer": "ipython3",
   "version": "3.9.12"
  }
 },
 "nbformat": 4,
 "nbformat_minor": 5
}
