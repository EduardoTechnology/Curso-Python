{
 "cells": [
  {
   "cell_type": "code",
   "execution_count": 5,
   "id": "8f276092",
   "metadata": {},
   "outputs": [],
   "source": [
    "kmh = [40,50,60,80,100]\n",
    "mph = []\n",
    "for i in kmh:\n",
    "    mph.append(i/1.61)"
   ]
  },
  {
   "cell_type": "code",
   "execution_count": 4,
   "id": "c3bed31b",
   "metadata": {},
   "outputs": [
    {
     "name": "stdout",
     "output_type": "stream",
     "text": [
      "[24.844720496894407, 31.05590062111801, 37.267080745341616, 49.689440993788814, 62.11180124223602]\n"
     ]
    }
   ],
   "source": [
    "mph2 = list(map(lambda x:x/1.61, kmh))\n",
    "print(mph2)"
   ]
  },
  {
   "cell_type": "code",
   "execution_count": 1,
   "id": "ed075072",
   "metadata": {},
   "outputs": [],
   "source": [
    "caracteres = [i for i in 'didatica tech']"
   ]
  },
  {
   "cell_type": "code",
   "execution_count": 2,
   "id": "6553d699",
   "metadata": {},
   "outputs": [
    {
     "name": "stdout",
     "output_type": "stream",
     "text": [
      "['d', 'i', 'd', 'a', 't', 'i', 'c', 'a', ' ', 't', 'e', 'c', 'h']\n"
     ]
    }
   ],
   "source": [
    "print(caracteres)"
   ]
  },
  {
   "cell_type": "code",
   "execution_count": null,
   "id": "cff53e9f",
   "metadata": {},
   "outputs": [],
   "source": []
  }
 ],
 "metadata": {
  "kernelspec": {
   "display_name": "Python 3 (ipykernel)",
   "language": "python",
   "name": "python3"
  },
  "language_info": {
   "codemirror_mode": {
    "name": "ipython",
    "version": 3
   },
   "file_extension": ".py",
   "mimetype": "text/x-python",
   "name": "python",
   "nbconvert_exporter": "python",
   "pygments_lexer": "ipython3",
   "version": "3.9.12"
  }
 },
 "nbformat": 4,
 "nbformat_minor": 5
}
