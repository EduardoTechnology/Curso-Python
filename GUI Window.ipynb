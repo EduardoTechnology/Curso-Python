{
 "cells": [
  {
   "cell_type": "code",
   "execution_count": 10,
   "id": "8c8bfb01",
   "metadata": {},
   "outputs": [],
   "source": [
    "from tkinter import *\n",
    "\n",
    "window = Tk() #instantiate an instance of a window\n",
    "window.geometry(\"420x420\")\n",
    "window.title(\"Bro Code first GUI program\")\n",
    "\n",
    "icon = PhotoImage(file='logo.png')\n",
    "window.iconphoto(True,icon)\n",
    "window.config(background=\"black\")\n",
    "\n",
    "window.mainloop() #place window on computer screen. listen for events\n"
   ]
  },
  {
   "cell_type": "code",
   "execution_count": 11,
   "id": "955dad44",
   "metadata": {},
   "outputs": [],
   "source": [
    "from tkinter import *\n",
    "#label = an area widget that holds text and/or an image within a window\n",
    "window = Tk()\n",
    "\n",
    "photo = PhotoImage(file='C:\\\\Users\\Eduardo\\\\Documents\\\\DidaticaTech\\\\person.png')\n",
    "label = Label(window,\n",
    "             text =\"bro,do you even code?\",\n",
    "             font = ('Arial',40,'bold'),\n",
    "             fg = '#00FF00',\n",
    "             bg = 'black',\n",
    "             relief = RAISED,\n",
    "             bd = 10,\n",
    "             padx = 20,\n",
    "             pady = 20,\n",
    "             image=photo,\n",
    "             compound='bottom')\n",
    "label.pack()\n",
    "window.mainloop()"
   ]
  },
  {
   "cell_type": "code",
   "execution_count": 18,
   "id": "cec63a4e",
   "metadata": {},
   "outputs": [
    {
     "name": "stdout",
     "output_type": "stream",
     "text": [
      "1\n",
      "You clicked the button!\n",
      "2\n",
      "You clicked the button!\n"
     ]
    }
   ],
   "source": [
    "#button = you click it, then it does stuff\n",
    "\n",
    "from tkinter import *\n",
    "#button = you click it,then it does stuff\n",
    "count = 0\n",
    "def click():\n",
    "    global count\n",
    "    count+=1\n",
    "    print(count)\n",
    "    print(\"You clicked the button!\")\n",
    "window = Tk()\n",
    "photo = PhotoImage(file='logo.png')\n",
    "\n",
    "button = Button(window,\n",
    "               text=\"click me!\",\n",
    "               command=click, #def click\n",
    "               font =(\"Comic Sans\",30),\n",
    "               fg=\"#00FF00\",\n",
    "               bg=\"black\",\n",
    "               activeforeground='#00FF00',\n",
    "               activebackground=\"black\",\n",
    "               state=ACTIVE,\n",
    "               image=photo,\n",
    "               compound='bottom')\n",
    "button.pack()\n",
    "\n",
    "window.mainloop()"
   ]
  },
  {
   "cell_type": "code",
   "execution_count": 25,
   "id": "46814cfe",
   "metadata": {},
   "outputs": [
    {
     "name": "stdout",
     "output_type": "stream",
     "text": [
      "Hello jjj\n"
     ]
    }
   ],
   "source": [
    "from tkinter import *\n",
    "#entry widget = textbox that accepts a single line of user input\n",
    "\n",
    "def submit():\n",
    "    username = entry.get()\n",
    "    print(\"Hello \"+username)\n",
    "    entry.config(state=DISABLED)\n",
    "def delete():\n",
    "    entry.delete(0,END)\n",
    "def backspace():\n",
    "    entry.delete(len(entry.get())-1,END)\n",
    "window = Tk()\n",
    "entry = Entry(window,\n",
    "              font=(\"Arial\",50),\n",
    "              fg=\"#00FF00\",\n",
    "              bg=\"black\",\n",
    "              show=\"*\")\n",
    "#entry.insert(0,'Spongebob')\n",
    "entry.pack(side=LEFT)\n",
    "submit_button = Button(window,text=\"submit\",command=submit)\n",
    "submit_button.pack(side=RIGHT)\n",
    "\n",
    "delete_button = Button(window,text=\"delete\",command=delete)\n",
    "delete_button.pack(side=RIGHT)\n",
    "\n",
    "backspace_button = Button(window,text=\"backspace\",command=backspace)\n",
    "backspace_button.pack(side=RIGHT)\n",
    "\n",
    "window.mainloop()"
   ]
  },
  {
   "cell_type": "raw",
   "id": "c2fbcfaf",
   "metadata": {},
   "source": []
  },
  {
   "cell_type": "raw",
   "id": "a27a204d",
   "metadata": {},
   "source": []
  }
 ],
 "metadata": {
  "kernelspec": {
   "display_name": "Python 3 (ipykernel)",
   "language": "python",
   "name": "python3"
  },
  "language_info": {
   "codemirror_mode": {
    "name": "ipython",
    "version": 3
   },
   "file_extension": ".py",
   "mimetype": "text/x-python",
   "name": "python",
   "nbconvert_exporter": "python",
   "pygments_lexer": "ipython3",
   "version": "3.9.12"
  }
 },
 "nbformat": 4,
 "nbformat_minor": 5
}
