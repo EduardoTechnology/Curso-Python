{
 "cells": [
  {
   "cell_type": "code",
   "execution_count": 3,
   "id": "95641750",
   "metadata": {},
   "outputs": [
    {
     "data": {
      "text/plain": [
       "5"
      ]
     },
     "execution_count": 3,
     "metadata": {},
     "output_type": "execute_result"
    }
   ],
   "source": [
    "lista1 = [4, 5, 6]\n",
    "lista1[1]"
   ]
  },
  {
   "cell_type": "code",
   "execution_count": 7,
   "id": "75bfebf1",
   "metadata": {},
   "outputs": [
    {
     "name": "stdout",
     "output_type": "stream",
     "text": [
      "[10, 11, 12]\n"
     ]
    }
   ],
   "source": [
    "lista2 = [[4, 5, 6], [7, 8, 9], [10, 11, 12]]\n",
    "lista2[1][0]\n",
    "select = lista2[2]\n",
    "print (select)"
   ]
  },
  {
   "cell_type": "code",
   "execution_count": 11,
   "id": "15ba616d",
   "metadata": {},
   "outputs": [
    {
     "name": "stdout",
     "output_type": "stream",
     "text": [
      "A cidade escolhida é Rio de Janeiro\n"
     ]
    }
   ],
   "source": [
    "import random\n",
    "cidades = ['São paulo', 'Rio de Janeiro', 'Belo Horizonte']\n",
    "escolhida = random.choice(cidades)\n",
    "print ('A cidade escolhida é' , escolhida)"
   ]
  },
  {
   "cell_type": "code",
   "execution_count": 12,
   "id": "cc162da6",
   "metadata": {},
   "outputs": [
    {
     "name": "stdout",
     "output_type": "stream",
     "text": [
      "[1, 2, 3, 7, 8, 9]\n"
     ]
    }
   ],
   "source": [
    "a = [1, 2, 3]\n",
    "b = [7, 8, 9]\n",
    "for item in b:\n",
    "    a.append (item)\n",
    "print(a)"
   ]
  },
  {
   "cell_type": "code",
   "execution_count": null,
   "id": "54e0698b",
   "metadata": {},
   "outputs": [],
   "source": [
    "nomes = []\n",
    "idades = []\n",
    "\n",
    "while True:\n",
    "    nome = input('Digite um nome:')\n",
    "    if nome != 'fim':\n",
    "        nomes.append(nome)\n",
    "        idades.append(int(input('Insira a idade:')))\n",
    "    else:\n",
    "        break\n"
   ]
  }
 ],
 "metadata": {
  "kernelspec": {
   "display_name": "Python 3 (ipykernel)",
   "language": "python",
   "name": "python3"
  },
  "language_info": {
   "codemirror_mode": {
    "name": "ipython",
    "version": 3
   },
   "file_extension": ".py",
   "mimetype": "text/x-python",
   "name": "python",
   "nbconvert_exporter": "python",
   "pygments_lexer": "ipython3",
   "version": "3.9.12"
  }
 },
 "nbformat": 4,
 "nbformat_minor": 5
}
