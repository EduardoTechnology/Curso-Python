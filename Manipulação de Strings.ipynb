{
 "cells": [
  {
   "cell_type": "code",
   "execution_count": 5,
   "id": "768e1fcc",
   "metadata": {},
   "outputs": [
    {
     "data": {
      "text/plain": [
       "1"
      ]
     },
     "execution_count": 5,
     "metadata": {},
     "output_type": "execute_result"
    }
   ],
   "source": [
    "frase = 'estou manipulando strings'\n",
    "frase.count('e')"
   ]
  },
  {
   "cell_type": "code",
   "execution_count": 6,
   "id": "fb36d231",
   "metadata": {},
   "outputs": [
    {
     "name": "stdout",
     "output_type": "stream",
     "text": [
      "Digite um número para calcular seu fatorial5\n"
     ]
    }
   ],
   "source": [
    "numero = int(input('Digite um número para calcular seu fatorial'))\n",
    "fatorial = numero\n",
    "while antecessor == 1:\n",
    "    antecessor = numero - 1\n",
    "    numero = numero*antecessor\n",
    "    print (numero)"
   ]
  },
  {
   "cell_type": "code",
   "execution_count": null,
   "id": "f69eab7d",
   "metadata": {},
   "outputs": [],
   "source": []
  }
 ],
 "metadata": {
  "kernelspec": {
   "display_name": "Python 3 (ipykernel)",
   "language": "python",
   "name": "python3"
  },
  "language_info": {
   "codemirror_mode": {
    "name": "ipython",
    "version": 3
   },
   "file_extension": ".py",
   "mimetype": "text/x-python",
   "name": "python",
   "nbconvert_exporter": "python",
   "pygments_lexer": "ipython3",
   "version": "3.9.12"
  }
 },
 "nbformat": 4,
 "nbformat_minor": 5
}
