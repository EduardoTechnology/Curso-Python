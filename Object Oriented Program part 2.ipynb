{
 "cells": [
  {
   "cell_type": "code",
   "execution_count": 2,
   "id": "05c36e29",
   "metadata": {},
   "outputs": [
    {
     "name": "stdout",
     "output_type": "stream",
     "text": [
      "9\n",
      "27\n"
     ]
    }
   ],
   "source": [
    "#super() = Function used to give acess to the methods of a parent class.\n",
    "#          Returns a temporary object of a parent class when used\n",
    "class Rectangle:\n",
    "    def __init__(self,length,width):\n",
    "        self.length=length\n",
    "        self.width=width\n",
    "class Square(Rectangle):\n",
    "    def __init__(self,length,width):\n",
    "        #self.length = length\n",
    "        #self.width = width\n",
    "        super().__init__(length,width)\n",
    "    def area(self):\n",
    "        return self.length*self.width\n",
    "        \n",
    "class Cube(Rectangle):\n",
    "    def __init__(self,length,width,height):\n",
    "        super().__init__(length,width)\n",
    "        self.height = height\n",
    "        \n",
    "    def volume(self):\n",
    "        return self.length*self.width*self.height\n",
    "        \n",
    "    \n",
    "square = Square(3,3)\n",
    "cube = Cube(3,3,3)\n",
    "\n",
    "print(square.area())\n",
    "print(cube.volume())"
   ]
  },
  {
   "cell_type": "code",
   "execution_count": 3,
   "id": "35b86cfc",
   "metadata": {},
   "outputs": [
    {
     "ename": "TypeError",
     "evalue": "Can't instantiate abstract class Vehicle with abstract method go",
     "output_type": "error",
     "traceback": [
      "\u001b[1;31m---------------------------------------------------------------------------\u001b[0m",
      "\u001b[1;31mTypeError\u001b[0m                                 Traceback (most recent call last)",
      "Input \u001b[1;32mIn [3]\u001b[0m, in \u001b[0;36m<cell line: 21>\u001b[1;34m()\u001b[0m\n\u001b[0;32m     18\u001b[0m     \u001b[38;5;28;01mdef\u001b[39;00m \u001b[38;5;21mgo\u001b[39m(\u001b[38;5;28mself\u001b[39m):\n\u001b[0;32m     19\u001b[0m         \u001b[38;5;28mprint\u001b[39m(\u001b[38;5;124m\"\u001b[39m\u001b[38;5;124mYou ride the motorcycle\u001b[39m\u001b[38;5;124m\"\u001b[39m)\n\u001b[1;32m---> 21\u001b[0m vehicle \u001b[38;5;241m=\u001b[39m \u001b[43mVehicle\u001b[49m\u001b[43m(\u001b[49m\u001b[43m)\u001b[49m\n\u001b[0;32m     22\u001b[0m car \u001b[38;5;241m=\u001b[39m Car()\n\u001b[0;32m     23\u001b[0m motorcycle \u001b[38;5;241m=\u001b[39m Motorcycle()\n",
      "\u001b[1;31mTypeError\u001b[0m: Can't instantiate abstract class Vehicle with abstract method go"
     ]
    }
   ],
   "source": [
    "#Prevents a user from creating an object of that class\n",
    "# compels a user to override abstract methods in a child class\n",
    "\n",
    "#abstract class = a class which contains one or more abstract methods\n",
    "#abstract method = a method that has a declaration but does not have an implementation\n",
    "from abc import ABC,abstractmethod\n",
    "class Vehicle(ABC):\n",
    "    @abstractmethod\n",
    "    def go(self):\n",
    "        pass\n",
    "    @abstractmethod\n",
    "    def stop(self):\n",
    "        pass\n",
    "class Car(Vehicle):\n",
    "    \n",
    "    def go(self):\n",
    "        print(\"You drive the car\")\n",
    "    def stop(self):\n",
    "        print(\"This car is stopped\")\n",
    "\n",
    "class Motorcycle(Vehicle):\n",
    "    \n",
    "    def go(self):\n",
    "        print(\"You ride the motorcycle\")\n",
    "    def stop(self):\n",
    "        print(\"This motorcycle is stopped\")\n",
    "        \n",
    "vehicle = Vehicle()\n",
    "car = Car()\n",
    "motorcycle = Motorcycle()\n",
    "\n",
    "vehicle.go()\n",
    "car.go()\n",
    "motorcycle.go()\n",
    "\n",
    "car.stop()\n",
    "motorcycle.stop()"
   ]
  },
  {
   "cell_type": "code",
   "execution_count": 9,
   "id": "472916b6",
   "metadata": {},
   "outputs": [
    {
     "name": "stdout",
     "output_type": "stream",
     "text": [
      "red\n",
      "white\n",
      "blue\n",
      "black\n"
     ]
    }
   ],
   "source": [
    "#Object as arguments\n",
    "class Car:\n",
    "    color = None\n",
    "class Motorcycle:\n",
    "    color = None\n",
    "def change_color(vehicle,color):\n",
    "    vehicle.color = color\n",
    "car1 = Car()\n",
    "car2 = Car()\n",
    "car3 = Car()\n",
    "\n",
    "bike1=Motorcycle()\n",
    "\n",
    "change_color(car1,\"red\")\n",
    "change_color(car2,\"white\")\n",
    "change_color(car3,\"blue\")\n",
    "change_color(bike1,\"black\")\n",
    "print(car1.color)\n",
    "print(car2.color)\n",
    "print(car3.color)\n",
    "print(bike1.color)\n"
   ]
  },
  {
   "cell_type": "code",
   "execution_count": 11,
   "id": "5b154e66",
   "metadata": {},
   "outputs": [
    {
     "name": "stdout",
     "output_type": "stream",
     "text": [
      "This chicken is walking\n",
      "This chicken is clucking\n",
      "You caught the critter!\n"
     ]
    }
   ],
   "source": [
    "#Duck typing = concept where the class of an object is less important than the methods\n",
    "#              class type is not checked if minimum methods/attributes are present\n",
    "#              \"if it walks like a duck,and it quacks like a duck,then it must be a duck\"\n",
    "\n",
    "class Duck:\n",
    "    def walk(self):\n",
    "        print(\"This duck is walking\")\n",
    "    def talk(self):\n",
    "        print(\"This duck is qwacking\")\n",
    "class Chicken:\n",
    "    def walk(self):\n",
    "        print(\"This chicken is walking\")\n",
    "    def talk(self):\n",
    "        print(\"This chicken is clucking\")\n",
    "class Person():\n",
    "    def catch(self,duck):\n",
    "        duck.walk()\n",
    "        duck.talk()\n",
    "        print(\"You caught the critter!\")\n",
    "duck = Duck()\n",
    "chicken = Chicken()\n",
    "person = Person()\n",
    "\n",
    "person.catch(chicken) #Same attribute and method"
   ]
  },
  {
   "cell_type": "code",
   "execution_count": null,
   "id": "aef39f26",
   "metadata": {},
   "outputs": [],
   "source": []
  }
 ],
 "metadata": {
  "kernelspec": {
   "display_name": "Python 3 (ipykernel)",
   "language": "python",
   "name": "python3"
  },
  "language_info": {
   "codemirror_mode": {
    "name": "ipython",
    "version": 3
   },
   "file_extension": ".py",
   "mimetype": "text/x-python",
   "name": "python",
   "nbconvert_exporter": "python",
   "pygments_lexer": "ipython3",
   "version": "3.9.12"
  }
 },
 "nbformat": 4,
 "nbformat_minor": 5
}
