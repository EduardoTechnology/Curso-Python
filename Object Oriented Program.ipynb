{
 "cells": [
  {
   "cell_type": "code",
   "execution_count": 11,
   "id": "7042f092",
   "metadata": {},
   "outputs": [
    {
     "name": "stdout",
     "output_type": "stream",
     "text": [
      "This Corvette is driving\n",
      "Chev\n",
      "Corvette\n",
      "2021\n",
      "blue\n"
     ]
    }
   ],
   "source": [
    "\n",
    "class Car:\n",
    "\n",
    "    \n",
    "    def __init__(self,make,model,year,color):\n",
    "        self.make = make\n",
    "        self.model = model\n",
    "        self.year = year\n",
    "        self.color = color\n",
    "    \n",
    "        \n",
    "    def drive(self):\n",
    "        print(\"This \"+self.model+\" is driving\")\n",
    "    def stop(self):\n",
    "        print(\"This car is stopped\")\n",
    "        \n",
    "car1 = Car(\"Chev\",\"Corvette\",2021,\"blue\")\n",
    "car2 = Car(\"Ford\",\"Mustang\",2022,\"red\")\n",
    "car1.drive()\n",
    "print(car1.make)\n",
    "print(car1.model)\n",
    "print(car1.year)\n",
    "print(car1.color)\n",
    "\n",
    "\n",
    "\n"
   ]
  },
  {
   "cell_type": "code",
   "execution_count": 18,
   "id": "dceeaeaf",
   "metadata": {},
   "outputs": [
    {
     "name": "stdout",
     "output_type": "stream",
     "text": [
      "black\n",
      "Você ligou Samsung\n"
     ]
    }
   ],
   "source": [
    "class Tv:\n",
    "    def __init__(self,color,size,model):\n",
    "        self.color = color\n",
    "        self.size = size\n",
    "        self.model = model\n",
    "    def ligar(self):\n",
    "        print(\"Você ligou \"+self.model)\n",
    "tv1 = Tv(\"black\",40,\"Samsung\")\n",
    "print(tv1.color)\n",
    "tv1.ligar()"
   ]
  },
  {
   "cell_type": "code",
   "execution_count": 20,
   "id": "2e97c343",
   "metadata": {},
   "outputs": [
    {
     "name": "stdout",
     "output_type": "stream",
     "text": [
      "apple\n",
      "Você desligou o fone apple\n"
     ]
    }
   ],
   "source": [
    "class Headphone:\n",
    "    def __init__(self,model,year,color):\n",
    "        self.model= model\n",
    "        self.year= year\n",
    "        self.color= color\n",
    "    def desligar(self):\n",
    "        print(\"Você desligou o fone \"+self.model)\n",
    "headphone1=Headphone(\"apple\",2020,\"white\")\n",
    "print(headphone1.model)\n",
    "headphone1.desligar()"
   ]
  },
  {
   "cell_type": "code",
   "execution_count": 25,
   "id": "849105ca",
   "metadata": {},
   "outputs": [
    {
     "name": "stdout",
     "output_type": "stream",
     "text": [
      "Chev\n",
      "Corvette\n",
      "2021\n",
      "blue\n",
      "4\n",
      "2\n",
      "4\n"
     ]
    }
   ],
   "source": [
    "class Car:\n",
    "    \n",
    "    wheels = 4 #class variable\n",
    "    def __init__(self,make,model,year,color):\n",
    "        self.make = make\n",
    "        self.model = model\n",
    "        self.year = year\n",
    "        self.color = color\n",
    "car1 = Car(\"Chev\",\"Corvette\",2021,\"blue\")\n",
    "car2 = Car(\"Ford\",\"Mustang\",2022,\"red\")\n",
    "print(car1.make)\n",
    "print(car1.model)\n",
    "print(car1.year)\n",
    "print(car1.color)\n",
    "\n",
    "car2.wheels=2\n",
    "Car.wheels = 2\n",
    "print(car1.wheels)\n",
    "print(car2.wheels)\n",
    "\n",
    "print(Car.wheels)"
   ]
  },
  {
   "cell_type": "code",
   "execution_count": 28,
   "id": "25ec06d0",
   "metadata": {},
   "outputs": [
    {
     "name": "stdout",
     "output_type": "stream",
     "text": [
      "True\n",
      "This animal is eating\n",
      "This animal is sleeping\n",
      "This rabbit is running\n",
      "This fish is swimming\n",
      "This hawk is flying\n"
     ]
    }
   ],
   "source": [
    "class Animal:\n",
    "    alive = True\n",
    "    \n",
    "    def eat(self):\n",
    "        print(\"This animal is eating\")\n",
    "        \n",
    "    def sleep(self):\n",
    "        print(\"This animal is sleeping\")\n",
    "        \n",
    "class Rabbit(Animal): #Inheritance\n",
    "    def run(self): #Each inheritance class can have they own attributes and methods\n",
    "        print(\"This rabbit is running\")\n",
    "class Fish(Animal): #Inheritance\n",
    "    def swim(self):\n",
    "        print(\"This fish is swimming\")\n",
    "class Hawk(Animal): #Inheritance\n",
    "    def fly(self):\n",
    "        print(\"This hawk is flying\")\n",
    "rabbit = Rabbit()\n",
    "fish = Fish()\n",
    "hawk = Hawk()\n",
    "\n",
    "print(rabbit.alive)\n",
    "fish.eat()\n",
    "hawk.sleep()\n",
    "\n",
    "rabbit.run()\n",
    "fish.swim()\n",
    "hawk.fly()"
   ]
  },
  {
   "cell_type": "code",
   "execution_count": 29,
   "id": "c2abbf50",
   "metadata": {},
   "outputs": [
    {
     "name": "stdout",
     "output_type": "stream",
     "text": [
      "True\n",
      "This animal is eating\n",
      "This dog is barking\n"
     ]
    }
   ],
   "source": [
    "#multi-level ingeritance = when a derived (child) class inherits another derived (child) class\n",
    "class Organism:\n",
    "    alive = True\n",
    "class Animal(Organism):\n",
    "    def eat(self):\n",
    "        print(\"This animal is eating\")\n",
    "class Dog(Animal):\n",
    "    def bark(self):\n",
    "        print(\"This dog is barking\")\n",
    "dog = Dog()\n",
    "print(dog.alive)\n",
    "dog.eat()\n",
    "dog.bark()"
   ]
  },
  {
   "cell_type": "code",
   "execution_count": 30,
   "id": "138da518",
   "metadata": {},
   "outputs": [
    {
     "name": "stdout",
     "output_type": "stream",
     "text": [
      "This animal flees\n",
      "This animal is hunting\n",
      "This animal flees\n",
      "This animal is hunting\n"
     ]
    }
   ],
   "source": [
    "#multiple inheritance = when a child class is derived from more than one parent class\n",
    "\n",
    "class Prey:\n",
    "    def flee(self):\n",
    "        print(\"This animal flees\")\n",
    "class Predator:\n",
    "    def hunt(self):\n",
    "        print(\"This animal is hunting\")\n",
    "        \n",
    "class Rabbit(Prey):\n",
    "    pass\n",
    "class Hawk(Predator):\n",
    "    pass\n",
    "class Fish(Prey,Predator):\n",
    "    pass\n",
    "rabbit = Rabbit()\n",
    "hawk = Hawk()\n",
    "fish = Fish()\n",
    "\n",
    "rabbit.flee()\n",
    "hawk.hunt()\n",
    "fish.flee()\n",
    "fish.hunt()\n"
   ]
  },
  {
   "cell_type": "code",
   "execution_count": 31,
   "id": "cdc4816e",
   "metadata": {},
   "outputs": [
    {
     "name": "stdout",
     "output_type": "stream",
     "text": [
      "This rabbit is eating a carrot\n"
     ]
    }
   ],
   "source": [
    "#Method overriding\n",
    "class Animal:\n",
    "    def eat(self):\n",
    "        print(\"This animal is eating\")\n",
    "class Rabbit(Animal):\n",
    "    def eat(self): #Same signature of inherited class\n",
    "        print(\"This rabbit is eating a carrot\")\n",
    "rabbit = Rabbit()\n",
    "rabbit.eat()"
   ]
  },
  {
   "cell_type": "code",
   "execution_count": null,
   "id": "e36ea99c",
   "metadata": {},
   "outputs": [],
   "source": [
    "#method chaining = calling multiple methods sequentially\n",
    "#                  each call perfoms an action on the same object and returns self\n",
    "\n",
    "class Car:\n",
    "    def turn_on(self):\n",
    "        print(\"You start the engine\")\n",
    "        return self\n",
    "    def drive(self):\n",
    "        print(\"You drive the car\")\n",
    "        return self\n",
    "    def brake(self):\n",
    "        print(\"You step on the brakes\")\n",
    "        return self\n",
    "    def turn_off(self):\n",
    "        print(\"You turn off the engine\")\n",
    "        return self\n",
    "car = Car()\n",
    "\n",
    "car.turn_on().drive()\n",
    "car.brake().turn_off()\n",
    "\n",
    "car.turn_on()\\\n",
    "    .drive()\\\n",
    "    .brake()\\\n",
    "    .turn_off()\n",
    "        "
   ]
  }
 ],
 "metadata": {
  "kernelspec": {
   "display_name": "Python 3 (ipykernel)",
   "language": "python",
   "name": "python3"
  },
  "language_info": {
   "codemirror_mode": {
    "name": "ipython",
    "version": 3
   },
   "file_extension": ".py",
   "mimetype": "text/x-python",
   "name": "python",
   "nbconvert_exporter": "python",
   "pygments_lexer": "ipython3",
   "version": "3.9.12"
  }
 },
 "nbformat": 4,
 "nbformat_minor": 5
}
