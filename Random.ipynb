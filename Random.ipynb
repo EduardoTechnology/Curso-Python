{
 "cells": [
  {
   "cell_type": "code",
   "execution_count": 27,
   "id": "814f7947",
   "metadata": {},
   "outputs": [
    {
     "name": "stdout",
     "output_type": "stream",
     "text": [
      "[1, 'J', 'K', 2, 4, 7, 3, 'Q', 6, 5, 'A', 8, 9]\n",
      "scissors\n"
     ]
    }
   ],
   "source": [
    "import random\n",
    "\n",
    "x = random.randint(1,6)\n",
    "y = random.random()\n",
    "\n",
    "list = ['rock','paper','scissors']\n",
    "z = random.choice(list)\n",
    "\n",
    "cards = [1,2,3,4,5,6,7,8,9,\"J\",\"Q\",\"K\",\"A\"]\n",
    "\n",
    "random.shuffle(cards)\n",
    "print (cards)\n",
    "print (z)\n"
   ]
  },
  {
   "cell_type": "code",
   "execution_count": null,
   "id": "b75d35dd",
   "metadata": {},
   "outputs": [],
   "source": []
  },
  {
   "cell_type": "code",
   "execution_count": null,
   "id": "445c0d8d",
   "metadata": {},
   "outputs": [],
   "source": []
  }
 ],
 "metadata": {
  "kernelspec": {
   "display_name": "Python 3 (ipykernel)",
   "language": "python",
   "name": "python3"
  },
  "language_info": {
   "codemirror_mode": {
    "name": "ipython",
    "version": 3
   },
   "file_extension": ".py",
   "mimetype": "text/x-python",
   "name": "python",
   "nbconvert_exporter": "python",
   "pygments_lexer": "ipython3",
   "version": "3.9.12"
  }
 },
 "nbformat": 4,
 "nbformat_minor": 5
}
