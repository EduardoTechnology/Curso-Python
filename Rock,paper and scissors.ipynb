{
 "cells": [
  {
   "cell_type": "code",
   "execution_count": null,
   "id": "45f07346",
   "metadata": {},
   "outputs": [
    {
     "name": "stdout",
     "output_type": "stream",
     "text": [
      "rock,paper,or scissors?:rock\n",
      "You lose\n",
      "computer:  paper\n",
      "player:  rock\n",
      "Play again yes/noyes\n",
      "rock,paper,or scissors?:rock\n",
      "You lose\n",
      "computer:  paper\n",
      "player:  rock\n",
      "Play again yes/noyes\n"
     ]
    }
   ],
   "source": [
    "import random\n",
    "\n",
    "while True:\n",
    "    choices = [\"rock\",\"paper\",\"scissors\"]\n",
    "\n",
    "    computer = random.choice(choices)\n",
    "    player = None\n",
    "    while player not in choices:\n",
    "        player = input(\"rock,paper,or scissors?:\").lower() #Make lowercase\n",
    "\n",
    "    if player == computer:\n",
    "        print(\"Tie\")\n",
    "    elif player == \"rock\":\n",
    "        if computer == \"scissors\":\n",
    "            print(\"You win!\")\n",
    "        else:\n",
    "            pass\n",
    "        if computer == \"paper\":\n",
    "            print(\"You lose\")\n",
    "    #else:\n",
    "        #pass\n",
    "    elif player == \"paper\":\n",
    "        if computer == \"rock\":\n",
    "            print(\"You win\")\n",
    "    #else:\n",
    "        #pass\n",
    "        if computer == \"scissors\":\n",
    "            print(\"You lose\")\n",
    "    #else:\n",
    "        #pass\n",
    "    elif player == \"scissors\":\n",
    "        if computer == \"paper\":\n",
    "            print(\"You win\")\n",
    "    #else:\n",
    "        #pass\n",
    "        if computer == \"rock\":\n",
    "            print(\"You lose\")\n",
    "    print(\"computer: \",computer)\n",
    "    print(\"player: \",player)\n",
    "    play_again = input(\"Play again yes/no\").lower()\n",
    "    if play_again != \"yes\":\n",
    "        break\n",
    "    \n",
    "\n",
    " \n"
   ]
  },
  {
   "cell_type": "code",
   "execution_count": null,
   "id": "db73d861",
   "metadata": {},
   "outputs": [],
   "source": []
  },
  {
   "cell_type": "code",
   "execution_count": null,
   "id": "51a801c2",
   "metadata": {},
   "outputs": [],
   "source": []
  }
 ],
 "metadata": {
  "kernelspec": {
   "display_name": "Python 3 (ipykernel)",
   "language": "python",
   "name": "python3"
  },
  "language_info": {
   "codemirror_mode": {
    "name": "ipython",
    "version": 3
   },
   "file_extension": ".py",
   "mimetype": "text/x-python",
   "name": "python",
   "nbconvert_exporter": "python",
   "pygments_lexer": "ipython3",
   "version": "3.9.12"
  }
 },
 "nbformat": 4,
 "nbformat_minor": 5
}
