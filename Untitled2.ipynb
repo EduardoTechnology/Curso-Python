{
 "cells": [
  {
   "cell_type": "code",
   "execution_count": null,
   "id": "91c8be3b",
   "metadata": {},
   "outputs": [],
   "source": [
    "usuarios = {}\n",
    "cont = 0\n",
    "while True:\n",
    "    nome = input('Digite um nome e para encerrar digite fim:')\n",
    "    if nome != 'fim':\n",
    "        cont = cont + 1\n",
    "        usuarios[cont] = [nome, int(input('Insira a idade'))] #Insere no dicionário ligando a idade ao nome\n",
    "    else:\n",
    "        break\n",
    "for i in usuarios: \n",
    "    print(i[0], 'tem', i[1], 'anos.') #Percorre os nomes no i e indica o valor da chave no usuarios i"
   ]
  }
 ],
 "metadata": {
  "kernelspec": {
   "display_name": "Python 3 (ipykernel)",
   "language": "python",
   "name": "python3"
  },
  "language_info": {
   "codemirror_mode": {
    "name": "ipython",
    "version": 3
   },
   "file_extension": ".py",
   "mimetype": "text/x-python",
   "name": "python",
   "nbconvert_exporter": "python",
   "pygments_lexer": "ipython3",
   "version": "3.9.12"
  }
 },
 "nbformat": 4,
 "nbformat_minor": 5
}
