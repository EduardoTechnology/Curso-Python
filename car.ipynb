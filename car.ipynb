{
 "cells": [
  {
   "cell_type": "code",
   "execution_count": 11,
   "id": "92c0041b",
   "metadata": {},
   "outputs": [],
   "source": [
    "\n",
    "class Car:\n",
    "\n",
    "    \n",
    "    def __init__(self,make,model,year,color):\n",
    "        self.make = make\n",
    "        self.model = model\n",
    "        self.year = year\n",
    "        self.color = color\n",
    "    \n",
    "        \n",
    "    def drive(self):\n",
    "        print(\"This cara is driving\")\n",
    "    def stop(self):\n",
    "        print(\"This car is stopped\")"
   ]
  },
  {
   "cell_type": "code",
   "execution_count": null,
   "id": "ca23dd75",
   "metadata": {},
   "outputs": [],
   "source": []
  }
 ],
 "metadata": {
  "kernelspec": {
   "display_name": "Python 3 (ipykernel)",
   "language": "python",
   "name": "python3"
  },
  "language_info": {
   "codemirror_mode": {
    "name": "ipython",
    "version": 3
   },
   "file_extension": ".py",
   "mimetype": "text/x-python",
   "name": "python",
   "nbconvert_exporter": "python",
   "pygments_lexer": "ipython3",
   "version": "3.9.12"
  }
 },
 "nbformat": 4,
 "nbformat_minor": 5
}
