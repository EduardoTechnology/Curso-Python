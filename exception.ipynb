{
 "cells": [
  {
   "cell_type": "code",
   "execution_count": 4,
   "id": "1faefb2c",
   "metadata": {},
   "outputs": [
    {
     "name": "stdout",
     "output_type": "stream",
     "text": [
      "Enter a numberr to divide: 4\n",
      "Enter a number to divide by: 2\n",
      "2.0\n",
      "2.0\n"
     ]
    }
   ],
   "source": [
    "# exception = events detected during execution that interrupt the flow of a program\n",
    "\n",
    "try:\n",
    "    numerator = int(input(\"Enter a numberr to divide: \"))\n",
    "    denominator = int(input(\"Enter a number to divide by: \"))\n",
    "    result = numerator/denominator\n",
    "    print(result)\n",
    "except ZeroDivisionError as e:\n",
    "    print(e)\n",
    "    print(\"you can't divide by zero!\")\n",
    "except ValueError:\n",
    "    print(\"Enter only number\")\n",
    "except Exception:\n",
    "    print(\"something went wrong: \")\n",
    "else:\n",
    "    print(result)\n",
    "finally:\n",
    "    print(\"This will always execute\")\n",
    "\n"
   ]
  },
  {
   "cell_type": "code",
   "execution_count": null,
   "id": "e7af4c40",
   "metadata": {},
   "outputs": [],
   "source": []
  }
 ],
 "metadata": {
  "kernelspec": {
   "display_name": "Python 3 (ipykernel)",
   "language": "python",
   "name": "python3"
  },
  "language_info": {
   "codemirror_mode": {
    "name": "ipython",
    "version": 3
   },
   "file_extension": ".py",
   "mimetype": "text/x-python",
   "name": "python",
   "nbconvert_exporter": "python",
   "pygments_lexer": "ipython3",
   "version": "3.9.12"
  }
 },
 "nbformat": 4,
 "nbformat_minor": 5
}
