{
 "cells": [
  {
   "cell_type": "code",
   "execution_count": 2,
   "id": "8288499c",
   "metadata": {},
   "outputs": [
    {
     "name": "stdout",
     "output_type": "stream",
     "text": [
      "Hello\n",
      "Hello\n",
      "Whoa! I can't believe this works!\n"
     ]
    }
   ],
   "source": [
    "def hello():\n",
    "    print(\"Hello\")\n",
    "    \n",
    "hi = hello\n",
    "hello()\n",
    "hi()\n",
    "say = print\n",
    "say(\"Whoa! I can't believe this works!\")\n",
    "\n"
   ]
  },
  {
   "cell_type": "code",
   "execution_count": 4,
   "id": "ccbda477",
   "metadata": {},
   "outputs": [
    {
     "name": "stdout",
     "output_type": "stream",
     "text": [
      "HELLO\n",
      "hello\n",
      "5.0\n"
     ]
    }
   ],
   "source": [
    "#Higer Order Function = a function that either:\n",
    "#                       1.accepts a function as an argument\n",
    "#                       or\n",
    "#                       2.returns a funciton\n",
    "#                       (In python,functions are also treated as objects)\n",
    "def loud(text):\n",
    "    return text.upper()\n",
    "def quiet(text):\n",
    "    return text.lower()\n",
    "def hello(func):\n",
    "    text = func(\"Hello\")\n",
    "    print(text)\n",
    "hello(loud)\n",
    "hello(quiet)\n",
    "def divisor(x):\n",
    "    def dividend(y):\n",
    "        return y / x\n",
    "    return dividend\n",
    "\n",
    "divide = divisor(2)\n",
    "print(divide(10))"
   ]
  },
  {
   "cell_type": "code",
   "execution_count": 9,
   "id": "5f567f72",
   "metadata": {},
   "outputs": [
    {
     "name": "stdout",
     "output_type": "stream",
     "text": [
      "10\n",
      "30\n",
      "18\n",
      "Bro Code\n",
      "True\n"
     ]
    }
   ],
   "source": [
    "#lambda function = function written in 1 line using lambda keyword\n",
    "#                  accepts any number of arguments,but only has one expression\n",
    "#                  (think of it as a shortcut)\n",
    "#                  (useful if needed for a short period of time,throw-away)\n",
    "double = lambda x:x * 2\n",
    "multiply = lambda x, y:x*y\n",
    "add = lambda x,y,z:  x + y + z\n",
    "print(double(5))\n",
    "print(multiply(5,6))\n",
    "print(add(5,6,7))\n",
    "full_name = lambda first_name, last_name:first_name+\" \"+last_name\n",
    "age_check = lambda age:True if age >=18 else False\n",
    "print(full_name(\"Bro\",\"Code\"))\n",
    "print(age_check(18))"
   ]
  },
  {
   "cell_type": "code",
   "execution_count": 41,
   "id": "0c03ae44",
   "metadata": {},
   "outputs": [
    {
     "name": "stdout",
     "output_type": "stream",
     "text": [
      "Squidward\n",
      "Spongebob\n",
      "Sandy\n",
      "Mr.Krabs\n",
      "('Sandy', 'A', 33)\n",
      "('Spongebob', 'B', 20)\n",
      "('Mr.Krabs', 'C', 78)\n",
      "('Patrick', 'D', 36)\n",
      "('Squidward', 'F', 60)\n"
     ]
    }
   ],
   "source": [
    "#sort() method = used with list\n",
    "#sort() function = used with iterables\n",
    "\n",
    "students2 = [\"Squidward\",\"Sandy\",\"Spongebob\",\"Mr.Krabs\"]\n",
    "#students2.sort(reverse=True)\n",
    "sorted_students2= sorted(students2,reverse=True)\n",
    "for i in sorted_students2:\n",
    "    print(i)\n",
    "\n",
    "students =((\"Squidward\",\"F\",60),\n",
    "          (\"Sandy\",\"A\",33),\n",
    "          (\"Patrick\",\"D\",36),\n",
    "          (\"Spongebob\",\"B\",20),\n",
    "          (\"Mr.Krabs\",\"C\",78))\n",
    "age = lambda ages:ages[1]\n",
    "#students.sort(key=age)\n",
    "sorted_students = sorted(students,key=grade)\n",
    "\n",
    "for i in sorted_students:\n",
    "    print(i)"
   ]
  },
  {
   "cell_type": "code",
   "execution_count": 18,
   "id": "4d0d975c",
   "metadata": {},
   "outputs": [
    {
     "name": "stdout",
     "output_type": "stream",
     "text": [
      "('shirt', 16.4)\n",
      "('pants', 20.5)\n",
      "('jacket', 41.0)\n",
      "('socks', 8.2)\n"
     ]
    }
   ],
   "source": [
    "#map() = applies a function to each item in an iterable (list,tuple,etc.)\n",
    "#map(function,iterable)\n",
    "\n",
    "store = [(\"shirt\",20.00),\n",
    "        (\"pants\",25.00),\n",
    "        (\"jacket\",50.00),\n",
    "        (\"socks\",10.00)]\n",
    "\n",
    "to_euros=lambda data: (data[0],data[1]*0.82)\n",
    "to_dollars = lambda data: (data[0],data[1]/0.82)\n",
    "store_euros = list(map(to_euros,store))#first function,second iterable\n",
    "\n",
    "for i in store_euros:\n",
    "    print(i)"
   ]
  },
  {
   "cell_type": "code",
   "execution_count": 20,
   "id": "0c10c4b9",
   "metadata": {},
   "outputs": [
    {
     "name": "stdout",
     "output_type": "stream",
     "text": [
      "('Rachel', 19)\n",
      "('Monica', 18)\n",
      "('Chandler', 21)\n",
      "('Ross', 20)\n"
     ]
    }
   ],
   "source": [
    "#filter() = creates a collection of elements from an iterable for which a function returns True\n",
    "#\n",
    "#filter(function,iterable)\n",
    "\n",
    "friends = [(\"Rachel\",19),\n",
    "          (\"Monica\",18),\n",
    "          (\"Phoebe\",17),\n",
    "          (\"Joey\",16),\n",
    "          (\"Chandler\",21),\n",
    "          (\"Ross\",20)]\n",
    "age = lambda data:data[1] >=18\n",
    "drinking_buddies = list(filter(age, friends))#first function,second iterable\n",
    "for i in drinking_buddies:\n",
    "    print(i)\n",
    "    "
   ]
  },
  {
   "cell_type": "code",
   "execution_count": 21,
   "id": "091c7153",
   "metadata": {},
   "outputs": [
    {
     "name": "stdout",
     "output_type": "stream",
     "text": [
      "HELLO\n",
      "120\n"
     ]
    }
   ],
   "source": [
    "#reduce() = apply a function to an iterable and reduce it to a single cumulative value.\n",
    "#           performs function on first two elements and repeat process until 1 value remains\n",
    "#reduce(function,iterable)\n",
    "import functools\n",
    "letters=[\"H\",\"E\",\"L\",\"L\",\"O\"]\n",
    "word = functools.reduce(lambda x,y,:x+y,letters)\n",
    "print(word)\n",
    "\n",
    "factorial = [5,4,3,2,1]\n",
    "result = functools.reduce(lambda x,y,:x*y,factorial)\n",
    "print(result)"
   ]
  },
  {
   "cell_type": "code",
   "execution_count": 25,
   "id": "7e6bfa27",
   "metadata": {},
   "outputs": [
    {
     "name": "stdout",
     "output_type": "stream",
     "text": [
      "[100, 90, 80, 70, 60, 'failed', 'failed', 'failed', 'failed']\n",
      "[1, 4, 9, 16, 25, 36, 49, 64, 81, 100]\n"
     ]
    }
   ],
   "source": [
    "#list comprehension = a way to create a neew list with less syntax\n",
    "#                     can mimic certain lambda functions,easier to red\n",
    "#                     list = [expression for item in iterable]\n",
    "#                     list = [expression for item in iterable if conditional]\n",
    "#                     list = [expression if/else for item in iterable]\n",
    "\n",
    "students = [100,90,80,70,60,50,40,30,0]\n",
    "#passed_students = list(filter(lambda x:x >= 60,students))\n",
    "#print(passed_students)\n",
    "passed_students = [i if i>=60 else \"failed\" for i in students ]\n",
    "print(passed_students)\n",
    "\n",
    "squares = [i*i for i in range(1,11)]\n",
    "print(squares)\n",
    "\n"
   ]
  },
  {
   "cell_type": "code",
   "execution_count": 34,
   "id": "59a8895b",
   "metadata": {},
   "outputs": [
    {
     "name": "stdout",
     "output_type": "stream",
     "text": [
      "{'New York': 0, 'Boston': 24, 'Los Angeles': 38, 'Chicago': 10}\n",
      "{'Boston': 'sunny', 'Los Angeles': 'sunny'}\n",
      "{'Tom': 18, 'Fred': 22}\n",
      "{'New York': 'COLD', 'Boston': 'WARM', 'Los Angeles': 'WARM', 'Chicago': 'WARM'}\n",
      "{'New York': 'COLD', 'Boston': 'HOT', 'Los Angeles': 'HOT', 'Chicago': 'WARM'}\n"
     ]
    }
   ],
   "source": [
    "#dictionary comprehension = create dictionaries using an expression\n",
    "#                          can replace for loops and certain lambda functions\n",
    "#dictionary = {key:expression for (key,value) in iterable}\n",
    "\n",
    "cities_in_F = {'New York':32,'Boston':75,'Los Angeles':100,'Chicago':50}\n",
    "cities_in_C = {key: round((value-32)*(5/9)) for (key,value) in cities_in_F.items()}\n",
    "print(cities_in_C)\n",
    "\n",
    "weather = {'New York':\"snowing\",'Boston':\"sunny\",'Los Angeles':\"sunny\",'Chicago':\"cloudy\"}\n",
    "sunny_weather = {key: value for (key,value) in weather.items() if value ==\"sunny\"}\n",
    "print(sunny_weather)\n",
    "\n",
    "friends = {'Tom':18,'Sara':16,'Fred':22,'Luiza':16}\n",
    "friends_drink = {key:value for (key,value) in friends.items() if value>=18}\n",
    "print(friends_drink)\n",
    "\n",
    "cities = {'New York':32,'Boston':75,'Los Angeles':100,'Chicago':50}\n",
    "desc_cities = {key: (\"WARM\" if value >=40 else \"COLD\") for (key,value) in cities.items()}\n",
    "print(desc_cities)\n",
    "\n",
    "def check_temp(value):\n",
    "    if value >=70:\n",
    "        return \"HOT\"\n",
    "    elif 69>= value >=40:\n",
    "        return \"WARM\"\n",
    "    else:\n",
    "        return \"COLD\" \n",
    "citiesf = {'New York':32,'Boston':75,'Los Angeles':100,'Chicago':50}\n",
    "desc_citiesf = {key: check_temp(value) for (key,value) in cities.items()}\n",
    "print(desc_citiesf)"
   ]
  },
  {
   "cell_type": "code",
   "execution_count": 39,
   "id": "0bc63612",
   "metadata": {},
   "outputs": [
    {
     "name": "stdout",
     "output_type": "stream",
     "text": [
      "('Dude', 'p@ssword', '1/1/2021')\n",
      "('Bro', 'abc123', '1/2/2021')\n",
      "('Mister', 'guest', '1/3/2021')\n",
      "('Dude', 'p@ssword')\n",
      "('Bro', 'abc123')\n",
      "('Mister', 'guest')\n",
      "<class 'dict'>\n",
      "Dude : p@ssword\n",
      "Bro : abc123\n",
      "Mister : guest\n"
     ]
    }
   ],
   "source": [
    "#zip(*iterables) = aggregate elements from two or more iterables (list,tuples,sets,etc)\n",
    "#                  creates a zip object with paired elements stored in tuples for each element\n",
    "\n",
    "usernames = [\"Dude\",\"Bro\",\"Mister\"]\n",
    "passwords = (\"p@ssword\",\"abc123\",\"guest\")\n",
    "login_date = [\"1/1/2021\",\"1/2/2021\",\"1/3/2021\"]\n",
    "\n",
    "usersd = zip(usernames,passwords,login_date)\n",
    "for i in usersd:\n",
    "    print(i)\n",
    "\n",
    "userst = list(zip(usernames,passwords))\n",
    "for i in userst:\n",
    "    print(i)\n",
    "\n",
    "users = dict(zip(usernames,passwords))\n",
    "\n",
    "print(type(users))\n",
    "\n",
    "for key,value in users.items():\n",
    "    print(key+\" : \"+value)"
   ]
  },
  {
   "cell_type": "code",
   "execution_count": 40,
   "id": "6a82bda6",
   "metadata": {},
   "outputs": [
    {
     "name": "stdout",
     "output_type": "stream",
     "text": [
      "__main__\n"
     ]
    }
   ],
   "source": [
    "#1.Module can be run as a standalone program\n",
    "#   or\n",
    "#2.Module can be imported and used by other modules\n",
    "\n",
    "#Python interpreter sets \"special variables\", one of which is __name__\n",
    "#Python will assign the __name__ variable a value of '__main__' if it's\n",
    "#the initiall module being run\n",
    "import module1\n",
    "print(__name__)\n",
    "if __name__=='__main__':\n",
    "    hello()"
   ]
  },
  {
   "cell_type": "code",
   "execution_count": null,
   "id": "822cdbf8",
   "metadata": {},
   "outputs": [],
   "source": []
  }
 ],
 "metadata": {
  "kernelspec": {
   "display_name": "Python 3 (ipykernel)",
   "language": "python",
   "name": "python3"
  },
  "language_info": {
   "codemirror_mode": {
    "name": "ipython",
    "version": 3
   },
   "file_extension": ".py",
   "mimetype": "text/x-python",
   "name": "python",
   "nbconvert_exporter": "python",
   "pygments_lexer": "ipython3",
   "version": "3.9.12"
  }
 },
 "nbformat": 4,
 "nbformat_minor": 5
}
