{
 "cells": [
  {
   "cell_type": "code",
   "execution_count": 1,
   "id": "ba308b06",
   "metadata": {},
   "outputs": [],
   "source": [
    "#module = a file containing python code. May contain fuctions.classes ,etc.\n",
    "#used with modular programming, which is to separate a program into parts\n",
    "\n",
    "\n"
   ]
  },
  {
   "cell_type": "code",
   "execution_count": 2,
   "id": "bc965678",
   "metadata": {},
   "outputs": [
    {
     "name": "stdout",
     "output_type": "stream",
     "text": [
      "Bye! Havwe a wonderful time!\n"
     ]
    }
   ],
   "source": [
    " \n",
    "def hello():\n",
    "    print(\"Hello!Have a nice day!\")\n",
    "    \n",
    "def bye():\n",
    "    print(\"Bye! Havwe a wonderful time!\")\n",
    "    \n",
    "bye()"
   ]
  },
  {
   "cell_type": "code",
   "execution_count": null,
   "id": "694ad38a",
   "metadata": {},
   "outputs": [],
   "source": []
  }
 ],
 "metadata": {
  "kernelspec": {
   "display_name": "Python 3 (ipykernel)",
   "language": "python",
   "name": "python3"
  },
  "language_info": {
   "codemirror_mode": {
    "name": "ipython",
    "version": 3
   },
   "file_extension": ".py",
   "mimetype": "text/x-python",
   "name": "python",
   "nbconvert_exporter": "python",
   "pygments_lexer": "ipython3",
   "version": "3.9.12"
  }
 },
 "nbformat": 4,
 "nbformat_minor": 5
}
