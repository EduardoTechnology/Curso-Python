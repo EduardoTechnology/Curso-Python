{
 "cells": [
  {
   "cell_type": "code",
   "execution_count": 2,
   "id": "f3207ca9",
   "metadata": {},
   "outputs": [
    {
     "name": "stdout",
     "output_type": "stream",
     "text": [
      "time.struct_time(tm_year=2023, tm_mon=4, tm_mday=12, tm_hour=13, tm_min=54, tm_sec=52, tm_wday=2, tm_yday=102, tm_isdst=0)\n"
     ]
    }
   ],
   "source": [
    "import time\n",
    "\n",
    "time_object = time.localtime()\n",
    "print (time_object)\n",
    "time.strftime(\"%B %d %H\")"
   ]
  },
  {
   "cell_type": "code",
   "execution_count": 9,
   "id": "061033a4",
   "metadata": {},
   "outputs": [
    {
     "name": "stdout",
     "output_type": "stream",
     "text": [
      "You eat breakfast\n",
      "You drank coffee\n",
      "You finish studying\n",
      "6\n",
      "[<_MainThread(MainThread, started 13824)>, <Thread(IOPub, started daemon 17468)>, <Heartbeat(Heartbeat, started daemon 15060)>, <ControlThread(Control, started daemon 12228)>, <HistorySavingThread(IPythonHistorySavingThread, started 16964)>, <ParentPollerWindows(Thread-4, started daemon 18120)>]\n",
      "2385.9497101\n"
     ]
    }
   ],
   "source": [
    "#thread = a flow of execution. Like a separate order of instructions\n",
    "#         However each thread takes a turn running to achieve concurrency\n",
    "#         GIL = (global interpreter lock)\n",
    "#         allows only one thread to hold the control of the Python interpreter\n",
    "#cpu bound = program/task spends most of it's time waiting for internal events\n",
    "#            use multiprocessing\n",
    "#io bound = program/task spends most of it's time waiting for external events (user input)\n",
    "#           use multithreading\n",
    "import threading\n",
    "import time\n",
    "\n",
    "def eat_breakfast():\n",
    "    time.sleep(3)\n",
    "    print(\"You eat breakfast\")\n",
    "    \n",
    "def drink_coffee():\n",
    "    time.sleep(4)\n",
    "    print(\"You drank coffee\")\n",
    "    \n",
    "def study():\n",
    "    time.sleep(5)\n",
    "    print(\"You finish studying\")\n",
    "    \n",
    "x = threading.Thread(target=eat_breakfast, args=())\n",
    "x.start()\n",
    "y = threading.Thread(target=drink_coffee, args=())\n",
    "y.start()\n",
    "z = threading.Thread(target=study, args=())\n",
    "z.start()\n",
    "\n",
    "x.join()\n",
    "y.join()\n",
    "z.join()\n",
    "    \n",
    "#eat_breakfast()\n",
    "#drink_coffee()\n",
    "#study()\n",
    "\n",
    "print(threading.active_count())\n",
    "print(threading.enumerate())\n",
    "print(time.perf_counter())\n",
    "\n",
    "\n",
    "    "
   ]
  },
  {
   "cell_type": "code",
   "execution_count": 14,
   "id": "aafcf2a0",
   "metadata": {},
   "outputs": [
    {
     "name": "stdout",
     "output_type": "stream",
     "text": [
      "\n",
      "logged in for:  399 seconds\n",
      "logged in for:  199 seconds\n",
      "logged in for:  262 seconds\n",
      "logged in for:  279 seconds\n",
      "logged in for:  1 seconds\n",
      "logged in for:  400 seconds\n",
      "logged in for:  200 seconds\n",
      "logged in for:  263 seconds\n",
      "logged in for:  280 seconds\n",
      "logged in for:  2 seconds\n",
      "logged in for:  401 seconds\n",
      "logged in for:  201 seconds\n",
      "logged in for:  264 seconds\n",
      "logged in for:  281 seconds\n",
      "logged in for:  3 seconds\n"
     ]
    },
    {
     "ename": "KeyboardInterrupt",
     "evalue": "Interrupted by user",
     "output_type": "error",
     "traceback": [
      "\u001b[1;31m---------------------------------------------------------------------------\u001b[0m",
      "\u001b[1;31mKeyboardInterrupt\u001b[0m                         Traceback (most recent call last)",
      "Input \u001b[1;32mIn [14]\u001b[0m, in \u001b[0;36m<cell line: 20>\u001b[1;34m()\u001b[0m\n\u001b[0;32m     17\u001b[0m x\u001b[38;5;241m.\u001b[39mstart()\n\u001b[0;32m     18\u001b[0m \u001b[38;5;66;03m#x.setDaemon(True)\u001b[39;00m\n\u001b[0;32m     19\u001b[0m \u001b[38;5;66;03m#print(x.isDaemon())\u001b[39;00m\n\u001b[1;32m---> 20\u001b[0m answer \u001b[38;5;241m=\u001b[39m \u001b[38;5;28;43minput\u001b[39;49m\u001b[43m(\u001b[49m\u001b[38;5;124;43m\"\u001b[39;49m\u001b[38;5;124;43mDo you wish to exit?\u001b[39;49m\u001b[38;5;124;43m\"\u001b[39;49m\u001b[43m)\u001b[49m\n",
      "File \u001b[1;32m~\\anaconda3\\lib\\site-packages\\ipykernel\\kernelbase.py:1075\u001b[0m, in \u001b[0;36mKernel.raw_input\u001b[1;34m(self, prompt)\u001b[0m\n\u001b[0;32m   1071\u001b[0m \u001b[38;5;28;01mif\u001b[39;00m \u001b[38;5;129;01mnot\u001b[39;00m \u001b[38;5;28mself\u001b[39m\u001b[38;5;241m.\u001b[39m_allow_stdin:\n\u001b[0;32m   1072\u001b[0m     \u001b[38;5;28;01mraise\u001b[39;00m StdinNotImplementedError(\n\u001b[0;32m   1073\u001b[0m         \u001b[38;5;124m\"\u001b[39m\u001b[38;5;124mraw_input was called, but this frontend does not support input requests.\u001b[39m\u001b[38;5;124m\"\u001b[39m\n\u001b[0;32m   1074\u001b[0m     )\n\u001b[1;32m-> 1075\u001b[0m \u001b[38;5;28;01mreturn\u001b[39;00m \u001b[38;5;28;43mself\u001b[39;49m\u001b[38;5;241;43m.\u001b[39;49m\u001b[43m_input_request\u001b[49m\u001b[43m(\u001b[49m\n\u001b[0;32m   1076\u001b[0m \u001b[43m    \u001b[49m\u001b[38;5;28;43mstr\u001b[39;49m\u001b[43m(\u001b[49m\u001b[43mprompt\u001b[49m\u001b[43m)\u001b[49m\u001b[43m,\u001b[49m\n\u001b[0;32m   1077\u001b[0m \u001b[43m    \u001b[49m\u001b[38;5;28;43mself\u001b[39;49m\u001b[38;5;241;43m.\u001b[39;49m\u001b[43m_parent_ident\u001b[49m\u001b[43m[\u001b[49m\u001b[38;5;124;43m\"\u001b[39;49m\u001b[38;5;124;43mshell\u001b[39;49m\u001b[38;5;124;43m\"\u001b[39;49m\u001b[43m]\u001b[49m\u001b[43m,\u001b[49m\n\u001b[0;32m   1078\u001b[0m \u001b[43m    \u001b[49m\u001b[38;5;28;43mself\u001b[39;49m\u001b[38;5;241;43m.\u001b[39;49m\u001b[43mget_parent\u001b[49m\u001b[43m(\u001b[49m\u001b[38;5;124;43m\"\u001b[39;49m\u001b[38;5;124;43mshell\u001b[39;49m\u001b[38;5;124;43m\"\u001b[39;49m\u001b[43m)\u001b[49m\u001b[43m,\u001b[49m\n\u001b[0;32m   1079\u001b[0m \u001b[43m    \u001b[49m\u001b[43mpassword\u001b[49m\u001b[38;5;241;43m=\u001b[39;49m\u001b[38;5;28;43;01mFalse\u001b[39;49;00m\u001b[43m,\u001b[49m\n\u001b[0;32m   1080\u001b[0m \u001b[43m\u001b[49m\u001b[43m)\u001b[49m\n",
      "File \u001b[1;32m~\\anaconda3\\lib\\site-packages\\ipykernel\\kernelbase.py:1120\u001b[0m, in \u001b[0;36mKernel._input_request\u001b[1;34m(self, prompt, ident, parent, password)\u001b[0m\n\u001b[0;32m   1117\u001b[0m             \u001b[38;5;28;01mbreak\u001b[39;00m\n\u001b[0;32m   1118\u001b[0m \u001b[38;5;28;01mexcept\u001b[39;00m \u001b[38;5;167;01mKeyboardInterrupt\u001b[39;00m:\n\u001b[0;32m   1119\u001b[0m     \u001b[38;5;66;03m# re-raise KeyboardInterrupt, to truncate traceback\u001b[39;00m\n\u001b[1;32m-> 1120\u001b[0m     \u001b[38;5;28;01mraise\u001b[39;00m \u001b[38;5;167;01mKeyboardInterrupt\u001b[39;00m(\u001b[38;5;124m\"\u001b[39m\u001b[38;5;124mInterrupted by user\u001b[39m\u001b[38;5;124m\"\u001b[39m) \u001b[38;5;28;01mfrom\u001b[39;00m \u001b[38;5;28mNone\u001b[39m\n\u001b[0;32m   1121\u001b[0m \u001b[38;5;28;01mexcept\u001b[39;00m \u001b[38;5;167;01mException\u001b[39;00m:\n\u001b[0;32m   1122\u001b[0m     \u001b[38;5;28mself\u001b[39m\u001b[38;5;241m.\u001b[39mlog\u001b[38;5;241m.\u001b[39mwarning(\u001b[38;5;124m\"\u001b[39m\u001b[38;5;124mInvalid Message:\u001b[39m\u001b[38;5;124m\"\u001b[39m, exc_info\u001b[38;5;241m=\u001b[39m\u001b[38;5;28;01mTrue\u001b[39;00m)\n",
      "\u001b[1;31mKeyboardInterrupt\u001b[0m: Interrupted by user"
     ]
    }
   ],
   "source": [
    "#daemon thread = a thread that runs in the background, not imporant for program to run\n",
    "#                your program will not wait for daemon threads to complete before exiting\n",
    "#                non-daemon threads cannot normally be killed, stay alive until task is complete\n",
    "#                ex:background tasks,garbage collection,waiting for input,long running process\n",
    "import threading\n",
    "import time\n",
    "\n",
    "def timer():\n",
    "    print()\n",
    "    count = 0\n",
    "    while True:\n",
    "        time.sleep(1)\n",
    "        count += 1\n",
    "        print(\"logged in for: \",count,\"seconds\")\n",
    "        \n",
    "x = threading.Thread(target=timer, daemon=True)\n",
    "x.start()\n",
    "#x.setDaemon(True)\n",
    "#print(x.isDaemon())\n",
    "answer = input(\"Do you wish to exit?\")"
   ]
  },
  {
   "cell_type": "code",
   "execution_count": 21,
   "id": "1ec0cd07",
   "metadata": {},
   "outputs": [
    {
     "name": "stdout",
     "output_type": "stream",
     "text": [
      "8\n",
      "logged in for:  1976 seconds\n",
      "finished in: 5572.4553566 seconds\n",
      "logged in for:  1776 seconds\n",
      "logged in for: logged in for:  1856 seconds\n",
      " 1839 seconds\n",
      "logged in for:  1578 seconds\n",
      "logged in for:  1977 seconds\n",
      "logged in for:  1777 seconds\n",
      "logged in for: logged in for:  1840 seconds\n",
      " 1857 seconds\n",
      "logged in for:  1579 seconds\n",
      "logged in for:  1978 seconds\n",
      "logged in for:  1778 seconds\n",
      "logged in for:  1841 seconds\n",
      "logged in for:  1858 seconds\n",
      "logged in for:  1580 seconds\n",
      "logged in for:  1979 seconds\n",
      "logged in for:  1779 seconds\n",
      "logged in for:  1842 seconds\n",
      "logged in for:  1859 seconds\n",
      "logged in for:  1581 seconds\n",
      "logged in for:  1980 seconds\n",
      "logged in for:  1780 seconds\n",
      "logged in for:  1843 seconds\n",
      "logged in for:  1860 seconds\n",
      "logged in for:  1582 seconds\n",
      "logged in for:  1981 seconds\n",
      "logged in for:  1781 seconds\n",
      "logged in for:  1844 seconds\n",
      "logged in for:  1861 seconds\n",
      "logged in for:  1583 seconds\n",
      "logged in for:  1982 seconds\n",
      "logged in for:  1782 seconds\n",
      "logged in for:  1845 seconds\n",
      "logged in for:  1862 seconds\n"
     ]
    }
   ],
   "source": [
    "#multiprocessing = running tasks in parallel on different cpu cores, bypasses GIL used for thread\n",
    "#                  multiprocessing = better for cpu bound tasks (heavy cpu usage)\n",
    "#                  multithreading = better for io bound tasks (waiting around)\n",
    "from multiprocessing import Process, cpu_count\n",
    "import time\n",
    "\n",
    "def counter(num):\n",
    "    count = 0\n",
    "    while count <num:\n",
    "        count += 1\n",
    "def main():\n",
    "    print(cpu_count())\n",
    "    a = Process(target=counter, args=(250000000,))\n",
    "    b = Process(target=counter, args=(250000000,))\n",
    "    c = Process(target=counter, args=(250000000,))\n",
    "    d = Process(target=counter, args=(250000000,))\n",
    "    a.start()\n",
    "    b.start()\n",
    "    c.start()\n",
    "    d.start()\n",
    "    a.join()\n",
    "    b.join()\n",
    "    c.join()\n",
    "    d.join()\n",
    "    print (\"finished in:\",time.perf_counter(),\"seconds\")\n",
    "    \n",
    "if __name__ == '__main__':\n",
    "    main()"
   ]
  },
  {
   "cell_type": "code",
   "execution_count": null,
   "id": "20157eda",
   "metadata": {},
   "outputs": [],
   "source": []
  }
 ],
 "metadata": {
  "kernelspec": {
   "display_name": "Python 3 (ipykernel)",
   "language": "python",
   "name": "python3"
  },
  "language_info": {
   "codemirror_mode": {
    "name": "ipython",
    "version": 3
   },
   "file_extension": ".py",
   "mimetype": "text/x-python",
   "name": "python",
   "nbconvert_exporter": "python",
   "pygments_lexer": "ipython3",
   "version": "3.9.12"
  }
 },
 "nbformat": 4,
 "nbformat_minor": 5
}
